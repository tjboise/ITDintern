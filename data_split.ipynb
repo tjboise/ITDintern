{
 "cells": [
  {
   "cell_type": "code",
   "execution_count": 5,
   "id": "60c33aa8",
   "metadata": {},
   "outputs": [
    {
     "name": "stdout",
     "output_type": "stream",
     "text": [
      "Successfully copied 400 image-annotation pairs to the selected folder.\n",
      "Successfully moved the remaining 1579 image-annotation pairs to the remaining folder.\n"
     ]
    }
   ],
   "source": [
    "import os\n",
    "import random\n",
    "import shutil\n",
    "\n",
    "# Set the path to your folder containing the images and annotation files\n",
    "folder_path = 'C:/Users/tjzhang/Documents/GitHub/download_images/704-images/datapool'\n",
    "\n",
    "# List all the files (images and annotations) in the folder\n",
    "all_files = os.listdir(folder_path)\n",
    "\n",
    "# Separate images and annotation files based on their suffixes\n",
    "image_files = [file for file in all_files if file.endswith('.jpg')]\n",
    "annotation_files = [file for file in all_files if file.endswith('.txt')]\n",
    "\n",
    "# Set the number of image-annotation pairs you want to randomly pick\n",
    "num_pairs_to_pick = 400\n",
    "\n",
    "# Use random.sample to randomly select 'num_pairs_to_pick' pairs from the list of all image-annotation pairs\n",
    "randomly_selected_pairs = random.sample(list(zip(image_files, annotation_files)), num_pairs_to_pick)\n",
    "\n",
    "# Create a new folder to store the randomly selected image-annotation pairs\n",
    "output_folder_selected = 'C:/Users/tjzhang/Documents/GitHub/download_images/704-images/data-split/val'\n",
    "os.makedirs(output_folder_selected, exist_ok=True)\n",
    "\n",
    "# Create another folder to store the remaining image-annotation pairs\n",
    "output_folder_remaining = 'C:/Users/tjzhang/Documents/GitHub/download_images/704-images/data-split/train'\n",
    "os.makedirs(output_folder_remaining, exist_ok=True)\n",
    "\n",
    "# Copy the randomly selected image-annotation pairs to the new folder\n",
    "for image_file, annotation_file in randomly_selected_pairs:\n",
    "    src_image_path = os.path.join(folder_path, image_file)\n",
    "    dst_image_path = os.path.join(output_folder_selected, image_file)\n",
    "    shutil.copy(src_image_path, dst_image_path)\n",
    "\n",
    "    src_annotation_path = os.path.join(folder_path, annotation_file)\n",
    "    dst_annotation_path = os.path.join(output_folder_selected, annotation_file)\n",
    "    shutil.copy(src_annotation_path, dst_annotation_path)\n",
    "\n",
    "print(f\"Successfully copied {num_pairs_to_pick} image-annotation pairs to the selected folder.\")\n",
    "\n",
    "# Move the remaining image-annotation pairs to the new folder\n",
    "for image_file, annotation_file in zip(image_files, annotation_files):\n",
    "    if (image_file, annotation_file) not in randomly_selected_pairs:\n",
    "        src_image_path = os.path.join(folder_path, image_file)\n",
    "        dst_image_path = os.path.join(output_folder_remaining, image_file)\n",
    "        shutil.copy(src_image_path, dst_image_path)\n",
    "\n",
    "        src_annotation_path = os.path.join(folder_path, annotation_file)\n",
    "        dst_annotation_path = os.path.join(output_folder_remaining, annotation_file)\n",
    "        shutil.copy(src_annotation_path, dst_annotation_path)\n",
    "\n",
    "print(f\"Successfully moved the remaining {len(image_files) - num_pairs_to_pick} image-annotation pairs to the remaining folder.\")\n"
   ]
  },
  {
   "cell_type": "code",
   "execution_count": 6,
   "id": "0280eb8f",
   "metadata": {},
   "outputs": [
    {
     "name": "stdout",
     "output_type": "stream",
     "text": [
      "Successfully copied 400 image-annotation pairs to the selected folders.\n",
      "Successfully moved the remaining 1579 image-annotation pairs to the remaining folders.\n"
     ]
    }
   ],
   "source": [
    "import os\n",
    "import random\n",
    "import shutil\n",
    "\n",
    "# Set the path to your folder containing the images and annotation files\n",
    "folder_path = r'C:\\Users\\tjzhang\\Documents\\GitHub\\download_images\\704-images\\datapool'\n",
    "\n",
    "# List all the files (images and annotations) in the folder\n",
    "all_files = os.listdir(folder_path)\n",
    "\n",
    "# Separate images and annotation files based on their suffixes\n",
    "image_files = [file for file in all_files if file.endswith('.jpg')]\n",
    "annotation_files = [file for file in all_files if file.endswith('.txt')]\n",
    "\n",
    "# Set the number of image-annotation pairs you want to randomly pick\n",
    "num_pairs_to_pick = 400\n",
    "\n",
    "# Use random.sample to randomly select 'num_pairs_to_pick' pairs from the list of all image-annotation pairs\n",
    "randomly_selected_pairs = random.sample(list(zip(image_files, annotation_files)), num_pairs_to_pick)\n",
    "\n",
    "# Create folders to store the selected image-annotation pairs\n",
    "output_folder_selected_images = r'C:\\Users\\tjzhang\\Documents\\GitHub\\download_images\\704-images\\data-split\\val\\images'\n",
    "os.makedirs(output_folder_selected_images, exist_ok=True)\n",
    "\n",
    "output_folder_selected_annotations = r'C:\\Users\\tjzhang\\Documents\\GitHub\\download_images\\704-images\\data-split\\val\\labels'\n",
    "os.makedirs(output_folder_selected_annotations, exist_ok=True)\n",
    "\n",
    "# Copy the randomly selected image-annotation pairs to the respective folders\n",
    "for image_file, annotation_file in randomly_selected_pairs:\n",
    "    src_image_path = os.path.join(folder_path, image_file)\n",
    "    dst_image_path = os.path.join(output_folder_selected_images, image_file)\n",
    "    shutil.copy(src_image_path, dst_image_path)\n",
    "\n",
    "    src_annotation_path = os.path.join(folder_path, annotation_file)\n",
    "    dst_annotation_path = os.path.join(output_folder_selected_annotations, annotation_file)\n",
    "    shutil.copy(src_annotation_path, dst_annotation_path)\n",
    "\n",
    "print(f\"Successfully copied {num_pairs_to_pick} image-annotation pairs to the selected folders.\")\n",
    "\n",
    "# Create folders to store the remaining image-annotation pairs\n",
    "output_folder_remaining_images = r'C:\\Users\\tjzhang\\Documents\\GitHub\\download_images\\704-images\\data-split\\train\\images'\n",
    "os.makedirs(output_folder_remaining_images, exist_ok=True)\n",
    "\n",
    "output_folder_remaining_annotations = r'C:\\Users\\tjzhang\\Documents\\GitHub\\download_images\\704-images\\data-split\\train\\labels'\n",
    "os.makedirs(output_folder_remaining_annotations, exist_ok=True)\n",
    "\n",
    "# Move the remaining image-annotation pairs to the respective folders\n",
    "for image_file, annotation_file in zip(image_files, annotation_files):\n",
    "    if (image_file, annotation_file) not in randomly_selected_pairs:\n",
    "        src_image_path = os.path.join(folder_path, image_file)\n",
    "        dst_image_path = os.path.join(output_folder_remaining_images, image_file)\n",
    "        shutil.move(src_image_path, dst_image_path)\n",
    "\n",
    "        src_annotation_path = os.path.join(folder_path, annotation_file)\n",
    "        dst_annotation_path = os.path.join(output_folder_remaining_annotations, annotation_file)\n",
    "        shutil.move(src_annotation_path, dst_annotation_path)\n",
    "\n",
    "print(f\"Successfully moved the remaining {len(image_files) - num_pairs_to_pick} image-annotation pairs to the remaining folders.\")\n"
   ]
  },
  {
   "cell_type": "code",
   "execution_count": null,
   "id": "af2d0dc7",
   "metadata": {},
   "outputs": [],
   "source": []
  }
 ],
 "metadata": {
  "kernelspec": {
   "display_name": "Python 3 (ipykernel)",
   "language": "python",
   "name": "python3"
  },
  "language_info": {
   "codemirror_mode": {
    "name": "ipython",
    "version": 3
   },
   "file_extension": ".py",
   "mimetype": "text/x-python",
   "name": "python",
   "nbconvert_exporter": "python",
   "pygments_lexer": "ipython3",
   "version": "3.11.3"
  }
 },
 "nbformat": 4,
 "nbformat_minor": 5
}
