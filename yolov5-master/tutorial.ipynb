{
 "cells": [
  {
   "cell_type": "markdown",
   "metadata": {
    "id": "t6MPjfT5NrKQ"
   },
   "source": [
    "<div align=\"center\">\n",
    "\n",
    "  <a href=\"https://ultralytics.com/yolov5\" target=\"_blank\">\n",
    "    <img width=\"1024\", src=\"https://raw.githubusercontent.com/ultralytics/assets/main/yolov5/v70/splash.png\"></a>\n",
    "\n",
    "\n",
    "<br>\n",
    "  <a href=\"https://bit.ly/yolov5-paperspace-notebook\"><img src=\"https://assets.paperspace.io/img/gradient-badge.svg\" alt=\"Run on Gradient\"></a>\n",
    "  <a href=\"https://colab.research.google.com/github/ultralytics/yolov5/blob/master/tutorial.ipynb\"><img src=\"https://colab.research.google.com/assets/colab-badge.svg\" alt=\"Open In Colab\"></a>\n",
    "  <a href=\"https://www.kaggle.com/ultralytics/yolov5\"><img src=\"https://kaggle.com/static/images/open-in-kaggle.svg\" alt=\"Open In Kaggle\"></a>\n",
    "<br>\n",
    "\n",
    "This <a href=\"https://github.com/ultralytics/yolov5\">YOLOv5</a> 🚀 notebook by <a href=\"https://ultralytics.com\">Ultralytics</a> presents simple train, validate and predict examples to help start your AI adventure.<br>We hope that the resources in this notebook will help you get the most out of YOLOv5. Please browse the YOLOv5 <a href=\"https://docs.ultralytics.com/yolov5\">Docs</a> for details, raise an issue on <a href=\"https://github.com/ultralytics/yolov5\">GitHub</a> for support, and join our <a href=\"https://discord.gg/7aegy5d8\">Discord</a> community for questions and discussions!\n",
    "\n",
    "</div>"
   ]
  },
  {
   "cell_type": "markdown",
   "metadata": {
    "id": "7mGmQbAO5pQb"
   },
   "source": [
    "# Setup\n",
    "\n",
    "Clone GitHub [repository](https://github.com/ultralytics/yolov5), install [dependencies](https://github.com/ultralytics/yolov5/blob/master/requirements.txt) and check PyTorch and GPU."
   ]
  },
  {
   "cell_type": "code",
   "execution_count": 1,
   "metadata": {
    "colab": {
     "base_uri": "https://localhost:8080/"
    },
    "id": "wbvMlHd_QwMG",
    "outputId": "e8225db4-e61d-4640-8b1f-8bfce3331cea"
   },
   "outputs": [
    {
     "name": "stderr",
     "output_type": "stream",
     "text": [
      "YOLOv5  2023-6-20 Python-3.11.3 torch-2.0.1+cu118 CUDA:0 (NVIDIA RTX A1000 Laptop GPU, 4096MiB)\n"
     ]
    },
    {
     "name": "stdout",
     "output_type": "stream",
     "text": [
      "Setup complete  (24 CPUs, 31.7 GB RAM, 152.4/471.6 GB disk)\n"
     ]
    }
   ],
   "source": [
    "# !git clone https://github.com/ultralytics/yolov5  # clone\n",
    "# %cd yolov5\n",
    "# %pip install -qr requirements.txt comet_ml  # install\n",
    "\n",
    "import torch\n",
    "import utils\n",
    "display = utils.notebook_init()  # checks"
   ]
  },
  {
   "cell_type": "markdown",
   "metadata": {
    "id": "4JnkELT0cIJg"
   },
   "source": [
    "# 1. Detect\n",
    "\n",
    "`detect.py` runs YOLOv5 inference on a variety of sources, downloading models automatically from the [latest YOLOv5 release](https://github.com/ultralytics/yolov5/releases), and saving results to `runs/detect`. Example inference sources are:\n",
    "\n",
    "```shell\n",
    "python detect.py --source 0  # webcam\n",
    "                          img.jpg  # image \n",
    "                          vid.mp4  # video\n",
    "                          screen  # screenshot\n",
    "                          path/  # directory\n",
    "                         'path/*.jpg'  # glob\n",
    "                         'https://youtu.be/Zgi9g1ksQHc'  # YouTube\n",
    "                         'rtsp://example.com/media.mp4'  # RTSP, RTMP, HTTP stream\n",
    "```"
   ]
  },
  {
   "cell_type": "code",
   "execution_count": 3,
   "metadata": {
    "colab": {
     "base_uri": "https://localhost:8080/"
    },
    "id": "zR9ZbuQCH7FX",
    "outputId": "284ef04b-1596-412f-88f6-948828dd2b49"
   },
   "outputs": [
    {
     "name": "stderr",
     "output_type": "stream",
     "text": [
      "\u001b[34m\u001b[1mdetect: \u001b[0mweights=['runs/train/exp/weights/best.pt'], source=../datasets/car_demo/images, data=data\\coco128.yaml, imgsz=[640, 640], conf_thres=0.25, iou_thres=0.45, max_det=1000, device=, view_img=False, save_txt=False, save_conf=False, save_crop=False, nosave=False, classes=None, agnostic_nms=False, augment=False, visualize=False, update=False, project=runs\\detect, name=exp, exist_ok=False, line_thickness=3, hide_labels=False, hide_conf=False, half=False, dnn=False, vid_stride=1\n",
      "YOLOv5  2023-6-20 Python-3.11.3 torch-2.0.1+cu118 CUDA:0 (NVIDIA RTX A1000 Laptop GPU, 4096MiB)\n",
      "\n",
      "Fusing layers... \n",
      "Model summary: 157 layers, 7012822 parameters, 0 gradients, 15.8 GFLOPs\n",
      "image 1/150 C:\\Users\\tjzhang\\Documents\\GitHub\\ITDintern\\datasets\\car_demo\\images\\imagetemp_2247_2023-06-20 000000.jpg: 384x640 (no detections), 51.0ms\n",
      "image 2/150 C:\\Users\\tjzhang\\Documents\\GitHub\\ITDintern\\datasets\\car_demo\\images\\imagetemp_2247_2023-06-20 001500.jpg: 384x640 (no detections), 5.0ms\n",
      "image 3/150 C:\\Users\\tjzhang\\Documents\\GitHub\\ITDintern\\datasets\\car_demo\\images\\imagetemp_2247_2023-06-20 003000.jpg: 384x640 (no detections), 5.0ms\n",
      "image 4/150 C:\\Users\\tjzhang\\Documents\\GitHub\\ITDintern\\datasets\\car_demo\\images\\imagetemp_2247_2023-06-20 004500.jpg: 384x640 (no detections), 5.0ms\n",
      "image 5/150 C:\\Users\\tjzhang\\Documents\\GitHub\\ITDintern\\datasets\\car_demo\\images\\imagetemp_2247_2023-06-20 010000.jpg: 384x640 (no detections), 5.0ms\n",
      "image 6/150 C:\\Users\\tjzhang\\Documents\\GitHub\\ITDintern\\datasets\\car_demo\\images\\imagetemp_2247_2023-06-20 011500.jpg: 384x640 (no detections), 4.4ms\n",
      "image 7/150 C:\\Users\\tjzhang\\Documents\\GitHub\\ITDintern\\datasets\\car_demo\\images\\imagetemp_2247_2023-06-20 013000.jpg: 384x640 (no detections), 4.0ms\n",
      "image 8/150 C:\\Users\\tjzhang\\Documents\\GitHub\\ITDintern\\datasets\\car_demo\\images\\imagetemp_2247_2023-06-20 014500.jpg: 384x640 (no detections), 4.0ms\n",
      "image 9/150 C:\\Users\\tjzhang\\Documents\\GitHub\\ITDintern\\datasets\\car_demo\\images\\imagetemp_2247_2023-06-20 020000.jpg: 384x640 (no detections), 4.0ms\n",
      "image 10/150 C:\\Users\\tjzhang\\Documents\\GitHub\\ITDintern\\datasets\\car_demo\\images\\imagetemp_2247_2023-06-20 021500.jpg: 384x640 (no detections), 4.0ms\n",
      "image 11/150 C:\\Users\\tjzhang\\Documents\\GitHub\\ITDintern\\datasets\\car_demo\\images\\imagetemp_2247_2023-06-20 023000.jpg: 384x640 (no detections), 5.0ms\n",
      "image 12/150 C:\\Users\\tjzhang\\Documents\\GitHub\\ITDintern\\datasets\\car_demo\\images\\imagetemp_2247_2023-06-20 024500.jpg: 384x640 (no detections), 5.0ms\n",
      "image 13/150 C:\\Users\\tjzhang\\Documents\\GitHub\\ITDintern\\datasets\\car_demo\\images\\imagetemp_2247_2023-06-20 030000.jpg: 384x640 (no detections), 2.7ms\n",
      "image 14/150 C:\\Users\\tjzhang\\Documents\\GitHub\\ITDintern\\datasets\\car_demo\\images\\imagetemp_2247_2023-06-20 031500.jpg: 384x640 (no detections), 19.6ms\n",
      "image 15/150 C:\\Users\\tjzhang\\Documents\\GitHub\\ITDintern\\datasets\\car_demo\\images\\imagetemp_2247_2023-06-20 114500.jpg: 384x640 (no detections), 4.0ms\n",
      "image 16/150 C:\\Users\\tjzhang\\Documents\\GitHub\\ITDintern\\datasets\\car_demo\\images\\imagetemp_2247_2023-06-20 120000.jpg: 384x640 (no detections), 4.0ms\n",
      "image 17/150 C:\\Users\\tjzhang\\Documents\\GitHub\\ITDintern\\datasets\\car_demo\\images\\imagetemp_2247_2023-06-20 121500.jpg: 384x640 (no detections), 5.0ms\n",
      "image 18/150 C:\\Users\\tjzhang\\Documents\\GitHub\\ITDintern\\datasets\\car_demo\\images\\imagetemp_2247_2023-06-20 123000.jpg: 384x640 (no detections), 4.0ms\n",
      "image 19/150 C:\\Users\\tjzhang\\Documents\\GitHub\\ITDintern\\datasets\\car_demo\\images\\imagetemp_2247_2023-06-20 124500.jpg: 384x640 (no detections), 0.0ms\n",
      "image 20/150 C:\\Users\\tjzhang\\Documents\\GitHub\\ITDintern\\datasets\\car_demo\\images\\imagetemp_2247_2023-06-20 130000.jpg: 384x640 (no detections), 8.8ms\n",
      "image 21/150 C:\\Users\\tjzhang\\Documents\\GitHub\\ITDintern\\datasets\\car_demo\\images\\imagetemp_2247_2023-06-20 131500.jpg: 384x640 (no detections), 5.0ms\n",
      "image 22/150 C:\\Users\\tjzhang\\Documents\\GitHub\\ITDintern\\datasets\\car_demo\\images\\imagetemp_2247_2023-06-20 133000.jpg: 384x640 (no detections), 0.0ms\n",
      "image 23/150 C:\\Users\\tjzhang\\Documents\\GitHub\\ITDintern\\datasets\\car_demo\\images\\imagetemp_2247_2023-06-20 134500.jpg: 384x640 (no detections), 0.0ms\n",
      "image 24/150 C:\\Users\\tjzhang\\Documents\\GitHub\\ITDintern\\datasets\\car_demo\\images\\imagetemp_2247_2023-06-20 140000.jpg: 384x640 (no detections), 0.0ms\n",
      "image 25/150 C:\\Users\\tjzhang\\Documents\\GitHub\\ITDintern\\datasets\\car_demo\\images\\imagetemp_2247_2023-06-20 141500.jpg: 384x640 (no detections), 0.0ms\n",
      "image 26/150 C:\\Users\\tjzhang\\Documents\\GitHub\\ITDintern\\datasets\\car_demo\\images\\imagetemp_2247_2023-06-20 143000.jpg: 384x640 (no detections), 0.0ms\n",
      "image 27/150 C:\\Users\\tjzhang\\Documents\\GitHub\\ITDintern\\datasets\\car_demo\\images\\imagetemp_2247_2023-06-20 144500.jpg: 384x640 (no detections), 15.6ms\n",
      "image 28/150 C:\\Users\\tjzhang\\Documents\\GitHub\\ITDintern\\datasets\\car_demo\\images\\imagetemp_2248_2023-06-20 000000.jpg: 384x640 (no detections), 0.0ms\n",
      "image 29/150 C:\\Users\\tjzhang\\Documents\\GitHub\\ITDintern\\datasets\\car_demo\\images\\imagetemp_2248_2023-06-20 001500.jpg: 384x640 (no detections), 16.5ms\n",
      "image 30/150 C:\\Users\\tjzhang\\Documents\\GitHub\\ITDintern\\datasets\\car_demo\\images\\imagetemp_2248_2023-06-20 003000.jpg: 384x640 (no detections), 5.0ms\n",
      "image 31/150 C:\\Users\\tjzhang\\Documents\\GitHub\\ITDintern\\datasets\\car_demo\\images\\imagetemp_2248_2023-06-20 004500.jpg: 384x640 (no detections), 5.0ms\n",
      "image 32/150 C:\\Users\\tjzhang\\Documents\\GitHub\\ITDintern\\datasets\\car_demo\\images\\imagetemp_2248_2023-06-20 010000.jpg: 384x640 (no detections), 5.0ms\n",
      "image 33/150 C:\\Users\\tjzhang\\Documents\\GitHub\\ITDintern\\datasets\\car_demo\\images\\imagetemp_2248_2023-06-20 011500.jpg: 384x640 (no detections), 3.9ms\n",
      "image 34/150 C:\\Users\\tjzhang\\Documents\\GitHub\\ITDintern\\datasets\\car_demo\\images\\imagetemp_2248_2023-06-20 013000.jpg: 384x640 (no detections), 5.0ms\n",
      "image 35/150 C:\\Users\\tjzhang\\Documents\\GitHub\\ITDintern\\datasets\\car_demo\\images\\imagetemp_2248_2023-06-20 014500.jpg: 384x640 (no detections), 4.0ms\n",
      "image 36/150 C:\\Users\\tjzhang\\Documents\\GitHub\\ITDintern\\datasets\\car_demo\\images\\imagetemp_2248_2023-06-20 020000.jpg: 384x640 (no detections), 5.0ms\n",
      "image 37/150 C:\\Users\\tjzhang\\Documents\\GitHub\\ITDintern\\datasets\\car_demo\\images\\imagetemp_2248_2023-06-20 021500.jpg: 384x640 (no detections), 4.0ms\n",
      "image 38/150 C:\\Users\\tjzhang\\Documents\\GitHub\\ITDintern\\datasets\\car_demo\\images\\imagetemp_2248_2023-06-20 023000.jpg: 384x640 (no detections), 4.0ms\n",
      "image 39/150 C:\\Users\\tjzhang\\Documents\\GitHub\\ITDintern\\datasets\\car_demo\\images\\imagetemp_2248_2023-06-20 024500.jpg: 384x640 (no detections), 4.0ms\n",
      "image 40/150 C:\\Users\\tjzhang\\Documents\\GitHub\\ITDintern\\datasets\\car_demo\\images\\imagetemp_2248_2023-06-20 120000.jpg: 384x640 (no detections), 4.0ms\n",
      "image 41/150 C:\\Users\\tjzhang\\Documents\\GitHub\\ITDintern\\datasets\\car_demo\\images\\imagetemp_2248_2023-06-20 121500.jpg: 384x640 (no detections), 5.0ms\n",
      "image 42/150 C:\\Users\\tjzhang\\Documents\\GitHub\\ITDintern\\datasets\\car_demo\\images\\imagetemp_2248_2023-06-20 123000.jpg: 384x640 (no detections), 4.0ms\n",
      "image 43/150 C:\\Users\\tjzhang\\Documents\\GitHub\\ITDintern\\datasets\\car_demo\\images\\imagetemp_2248_2023-06-20 124500.jpg: 384x640 (no detections), 5.0ms\n",
      "image 44/150 C:\\Users\\tjzhang\\Documents\\GitHub\\ITDintern\\datasets\\car_demo\\images\\imagetemp_2248_2023-06-20 130000.jpg: 384x640 (no detections), 0.0ms\n",
      "image 45/150 C:\\Users\\tjzhang\\Documents\\GitHub\\ITDintern\\datasets\\car_demo\\images\\imagetemp_2248_2023-06-20 131500.jpg: 384x640 (no detections), 0.0ms\n",
      "image 46/150 C:\\Users\\tjzhang\\Documents\\GitHub\\ITDintern\\datasets\\car_demo\\images\\imagetemp_2248_2023-06-20 133000.jpg: 384x640 (no detections), 5.0ms\n",
      "image 47/150 C:\\Users\\tjzhang\\Documents\\GitHub\\ITDintern\\datasets\\car_demo\\images\\imagetemp_2248_2023-06-20 134500.jpg: 384x640 (no detections), 5.0ms\n",
      "image 48/150 C:\\Users\\tjzhang\\Documents\\GitHub\\ITDintern\\datasets\\car_demo\\images\\imagetemp_2248_2023-06-20 140000.jpg: 384x640 (no detections), 0.0ms\n",
      "image 49/150 C:\\Users\\tjzhang\\Documents\\GitHub\\ITDintern\\datasets\\car_demo\\images\\imagetemp_2248_2023-06-20 141500.jpg: 384x640 (no detections), 0.0ms\n",
      "image 50/150 C:\\Users\\tjzhang\\Documents\\GitHub\\ITDintern\\datasets\\car_demo\\images\\imagetemp_2248_2023-06-20 143000.jpg: 384x640 (no detections), 0.0ms\n",
      "image 51/150 C:\\Users\\tjzhang\\Documents\\GitHub\\ITDintern\\datasets\\car_demo\\images\\imagetemp_2248_2023-06-20 144500.jpg: 384x640 (no detections), 0.0ms\n",
      "image 52/150 C:\\Users\\tjzhang\\Documents\\GitHub\\ITDintern\\datasets\\car_demo\\images\\imagetemp_2249_2023-06-20 000000.jpg: 384x640 (no detections), 0.0ms\n",
      "image 53/150 C:\\Users\\tjzhang\\Documents\\GitHub\\ITDintern\\datasets\\car_demo\\images\\imagetemp_2249_2023-06-20 001500.jpg: 384x640 (no detections), 0.0ms\n",
      "image 54/150 C:\\Users\\tjzhang\\Documents\\GitHub\\ITDintern\\datasets\\car_demo\\images\\imagetemp_2249_2023-06-20 003000.jpg: 384x640 (no detections), 5.0ms\n",
      "image 55/150 C:\\Users\\tjzhang\\Documents\\GitHub\\ITDintern\\datasets\\car_demo\\images\\imagetemp_2249_2023-06-20 004500.jpg: 384x640 (no detections), 0.0ms\n",
      "image 56/150 C:\\Users\\tjzhang\\Documents\\GitHub\\ITDintern\\datasets\\car_demo\\images\\imagetemp_2249_2023-06-20 010000.jpg: 384x640 (no detections), 0.0ms\n",
      "image 57/150 C:\\Users\\tjzhang\\Documents\\GitHub\\ITDintern\\datasets\\car_demo\\images\\imagetemp_2249_2023-06-20 011500.jpg: 384x640 (no detections), 15.6ms\n",
      "image 58/150 C:\\Users\\tjzhang\\Documents\\GitHub\\ITDintern\\datasets\\car_demo\\images\\imagetemp_2249_2023-06-20 013000.jpg: 384x640 (no detections), 15.6ms\n",
      "image 59/150 C:\\Users\\tjzhang\\Documents\\GitHub\\ITDintern\\datasets\\car_demo\\images\\imagetemp_2249_2023-06-20 014500.jpg: 384x640 (no detections), 15.7ms\n",
      "image 60/150 C:\\Users\\tjzhang\\Documents\\GitHub\\ITDintern\\datasets\\car_demo\\images\\imagetemp_2249_2023-06-20 020000.jpg: 384x640 (no detections), 0.0ms\n",
      "image 61/150 C:\\Users\\tjzhang\\Documents\\GitHub\\ITDintern\\datasets\\car_demo\\images\\imagetemp_2249_2023-06-20 021500.jpg: 384x640 (no detections), 0.0ms\n",
      "image 62/150 C:\\Users\\tjzhang\\Documents\\GitHub\\ITDintern\\datasets\\car_demo\\images\\imagetemp_2249_2023-06-20 023000.jpg: 384x640 (no detections), 0.0ms\n",
      "image 63/150 C:\\Users\\tjzhang\\Documents\\GitHub\\ITDintern\\datasets\\car_demo\\images\\imagetemp_2249_2023-06-20 024500.jpg: 384x640 (no detections), 0.0ms\n",
      "image 64/150 C:\\Users\\tjzhang\\Documents\\GitHub\\ITDintern\\datasets\\car_demo\\images\\imagetemp_2249_2023-06-20 030000.jpg: 384x640 (no detections), 15.6ms\n",
      "image 65/150 C:\\Users\\tjzhang\\Documents\\GitHub\\ITDintern\\datasets\\car_demo\\images\\imagetemp_2249_2023-06-20 031500.jpg: 384x640 (no detections), 15.6ms\n",
      "image 66/150 C:\\Users\\tjzhang\\Documents\\GitHub\\ITDintern\\datasets\\car_demo\\images\\imagetemp_2249_2023-06-20 120000.jpg: 384x640 (no detections), 15.6ms\n",
      "image 67/150 C:\\Users\\tjzhang\\Documents\\GitHub\\ITDintern\\datasets\\car_demo\\images\\imagetemp_2249_2023-06-20 121500.jpg: 384x640 (no detections), 0.0ms\n",
      "image 68/150 C:\\Users\\tjzhang\\Documents\\GitHub\\ITDintern\\datasets\\car_demo\\images\\imagetemp_2249_2023-06-20 123000.jpg: 384x640 (no detections), 0.0ms\n",
      "image 69/150 C:\\Users\\tjzhang\\Documents\\GitHub\\ITDintern\\datasets\\car_demo\\images\\imagetemp_2249_2023-06-20 124500.jpg: 384x640 (no detections), 0.0ms\n",
      "image 70/150 C:\\Users\\tjzhang\\Documents\\GitHub\\ITDintern\\datasets\\car_demo\\images\\imagetemp_2249_2023-06-20 130000.jpg: 384x640 (no detections), 0.0ms\n",
      "image 71/150 C:\\Users\\tjzhang\\Documents\\GitHub\\ITDintern\\datasets\\car_demo\\images\\imagetemp_2249_2023-06-20 131500.jpg: 384x640 (no detections), 0.0ms\n",
      "image 72/150 C:\\Users\\tjzhang\\Documents\\GitHub\\ITDintern\\datasets\\car_demo\\images\\imagetemp_2249_2023-06-20 133000.jpg: 384x640 (no detections), 0.0ms\n",
      "image 73/150 C:\\Users\\tjzhang\\Documents\\GitHub\\ITDintern\\datasets\\car_demo\\images\\imagetemp_2249_2023-06-20 134500.jpg: 384x640 (no detections), 15.8ms\n",
      "image 74/150 C:\\Users\\tjzhang\\Documents\\GitHub\\ITDintern\\datasets\\car_demo\\images\\imagetemp_2249_2023-06-20 140000.jpg: 384x640 (no detections), 5.0ms\n",
      "image 75/150 C:\\Users\\tjzhang\\Documents\\GitHub\\ITDintern\\datasets\\car_demo\\images\\imagetemp_2249_2023-06-20 141500.jpg: 384x640 (no detections), 0.0ms\n",
      "image 76/150 C:\\Users\\tjzhang\\Documents\\GitHub\\ITDintern\\datasets\\car_demo\\images\\imagetemp_2249_2023-06-20 143000.jpg: 384x640 (no detections), 0.0ms\n",
      "image 77/150 C:\\Users\\tjzhang\\Documents\\GitHub\\ITDintern\\datasets\\car_demo\\images\\imagetemp_2249_2023-06-20 144500.jpg: 384x640 (no detections), 4.0ms\n",
      "image 78/150 C:\\Users\\tjzhang\\Documents\\GitHub\\ITDintern\\datasets\\car_demo\\images\\imagetemp_2970_2023-06-20 000000.jpg: 384x640 (no detections), 5.1ms\n",
      "image 79/150 C:\\Users\\tjzhang\\Documents\\GitHub\\ITDintern\\datasets\\car_demo\\images\\imagetemp_2970_2023-06-20 001500.jpg: 384x640 (no detections), 15.6ms\n",
      "image 80/150 C:\\Users\\tjzhang\\Documents\\GitHub\\ITDintern\\datasets\\car_demo\\images\\imagetemp_2970_2023-06-20 003000.jpg: 384x640 (no detections), 15.6ms\n",
      "image 81/150 C:\\Users\\tjzhang\\Documents\\GitHub\\ITDintern\\datasets\\car_demo\\images\\imagetemp_2970_2023-06-20 004500.jpg: 384x640 (no detections), 15.6ms\n",
      "image 82/150 C:\\Users\\tjzhang\\Documents\\GitHub\\ITDintern\\datasets\\car_demo\\images\\imagetemp_2970_2023-06-20 010000.jpg: 384x640 (no detections), 15.6ms\n",
      "image 83/150 C:\\Users\\tjzhang\\Documents\\GitHub\\ITDintern\\datasets\\car_demo\\images\\imagetemp_2970_2023-06-20 011500.jpg: 384x640 (no detections), 15.6ms\n",
      "image 84/150 C:\\Users\\tjzhang\\Documents\\GitHub\\ITDintern\\datasets\\car_demo\\images\\imagetemp_2970_2023-06-20 013000.jpg: 384x640 (no detections), 0.0ms\n",
      "image 85/150 C:\\Users\\tjzhang\\Documents\\GitHub\\ITDintern\\datasets\\car_demo\\images\\imagetemp_2970_2023-06-20 014500.jpg: 384x640 (no detections), 0.0ms\n",
      "image 86/150 C:\\Users\\tjzhang\\Documents\\GitHub\\ITDintern\\datasets\\car_demo\\images\\imagetemp_2970_2023-06-20 020000.jpg: 384x640 (no detections), 0.0ms\n",
      "image 87/150 C:\\Users\\tjzhang\\Documents\\GitHub\\ITDintern\\datasets\\car_demo\\images\\imagetemp_2970_2023-06-20 021500.jpg: 384x640 (no detections), 0.0ms\n",
      "image 88/150 C:\\Users\\tjzhang\\Documents\\GitHub\\ITDintern\\datasets\\car_demo\\images\\imagetemp_2970_2023-06-20 114500.jpg: 384x640 (no detections), 0.0ms\n",
      "image 89/150 C:\\Users\\tjzhang\\Documents\\GitHub\\ITDintern\\datasets\\car_demo\\images\\imagetemp_2970_2023-06-20 120000.jpg: 384x640 (no detections), 0.0ms\n",
      "image 90/150 C:\\Users\\tjzhang\\Documents\\GitHub\\ITDintern\\datasets\\car_demo\\images\\imagetemp_2970_2023-06-20 121500.jpg: 384x640 (no detections), 0.0ms\n",
      "image 91/150 C:\\Users\\tjzhang\\Documents\\GitHub\\ITDintern\\datasets\\car_demo\\images\\imagetemp_2970_2023-06-20 123000.jpg: 384x640 (no detections), 0.0ms\n",
      "image 92/150 C:\\Users\\tjzhang\\Documents\\GitHub\\ITDintern\\datasets\\car_demo\\images\\imagetemp_2970_2023-06-20 124500.jpg: 384x640 (no detections), 15.6ms\n",
      "image 93/150 C:\\Users\\tjzhang\\Documents\\GitHub\\ITDintern\\datasets\\car_demo\\images\\imagetemp_2970_2023-06-20 130000.jpg: 384x640 (no detections), 15.6ms\n",
      "image 94/150 C:\\Users\\tjzhang\\Documents\\GitHub\\ITDintern\\datasets\\car_demo\\images\\imagetemp_2970_2023-06-20 131500.jpg: 384x640 (no detections), 15.7ms\n",
      "image 95/150 C:\\Users\\tjzhang\\Documents\\GitHub\\ITDintern\\datasets\\car_demo\\images\\imagetemp_2970_2023-06-20 133000.jpg: 384x640 (no detections), 15.6ms\n",
      "image 96/150 C:\\Users\\tjzhang\\Documents\\GitHub\\ITDintern\\datasets\\car_demo\\images\\imagetemp_2970_2023-06-20 134500.jpg: 384x640 (no detections), 15.6ms\n",
      "image 97/150 C:\\Users\\tjzhang\\Documents\\GitHub\\ITDintern\\datasets\\car_demo\\images\\imagetemp_2970_2023-06-20 140000.jpg: 384x640 (no detections), 15.7ms\n",
      "image 98/150 C:\\Users\\tjzhang\\Documents\\GitHub\\ITDintern\\datasets\\car_demo\\images\\imagetemp_2970_2023-06-20 141500.jpg: 384x640 (no detections), 15.6ms\n",
      "image 99/150 C:\\Users\\tjzhang\\Documents\\GitHub\\ITDintern\\datasets\\car_demo\\images\\imagetemp_2970_2023-06-20 143000.jpg: 384x640 (no detections), 5.0ms\n",
      "image 100/150 C:\\Users\\tjzhang\\Documents\\GitHub\\ITDintern\\datasets\\car_demo\\images\\imagetemp_2970_2023-06-20 144500.jpg: 384x640 (no detections), 4.0ms\n",
      "image 101/150 C:\\Users\\tjzhang\\Documents\\GitHub\\ITDintern\\datasets\\car_demo\\images\\imagetemp_2983_2023-06-20 000000.jpg: 384x640 (no detections), 0.0ms\n",
      "image 102/150 C:\\Users\\tjzhang\\Documents\\GitHub\\ITDintern\\datasets\\car_demo\\images\\imagetemp_2983_2023-06-20 001500.jpg: 384x640 (no detections), 0.8ms\n",
      "image 103/150 C:\\Users\\tjzhang\\Documents\\GitHub\\ITDintern\\datasets\\car_demo\\images\\imagetemp_2983_2023-06-20 003000.jpg: 384x640 (no detections), 12.0ms\n",
      "image 104/150 C:\\Users\\tjzhang\\Documents\\GitHub\\ITDintern\\datasets\\car_demo\\images\\imagetemp_2983_2023-06-20 004500.jpg: 384x640 (no detections), 4.0ms\n",
      "image 105/150 C:\\Users\\tjzhang\\Documents\\GitHub\\ITDintern\\datasets\\car_demo\\images\\imagetemp_2983_2023-06-20 010000.jpg: 384x640 (no detections), 0.0ms\n",
      "image 106/150 C:\\Users\\tjzhang\\Documents\\GitHub\\ITDintern\\datasets\\car_demo\\images\\imagetemp_2983_2023-06-20 011500.jpg: 384x640 (no detections), 10.2ms\n",
      "image 107/150 C:\\Users\\tjzhang\\Documents\\GitHub\\ITDintern\\datasets\\car_demo\\images\\imagetemp_2983_2023-06-20 013000.jpg: 384x640 (no detections), 0.0ms\n",
      "image 108/150 C:\\Users\\tjzhang\\Documents\\GitHub\\ITDintern\\datasets\\car_demo\\images\\imagetemp_2983_2023-06-20 014500.jpg: 384x640 (no detections), 0.0ms\n",
      "image 109/150 C:\\Users\\tjzhang\\Documents\\GitHub\\ITDintern\\datasets\\car_demo\\images\\imagetemp_2983_2023-06-20 020000.jpg: 384x640 (no detections), 0.0ms\n",
      "image 110/150 C:\\Users\\tjzhang\\Documents\\GitHub\\ITDintern\\datasets\\car_demo\\images\\imagetemp_2983_2023-06-20 021500.jpg: 384x640 (no detections), 0.0ms\n",
      "image 111/150 C:\\Users\\tjzhang\\Documents\\GitHub\\ITDintern\\datasets\\car_demo\\images\\imagetemp_2983_2023-06-20 023000.jpg: 384x640 (no detections), 10.1ms\n",
      "image 112/150 C:\\Users\\tjzhang\\Documents\\GitHub\\ITDintern\\datasets\\car_demo\\images\\imagetemp_2983_2023-06-20 024500.jpg: 384x640 (no detections), 10.1ms\n",
      "image 113/150 C:\\Users\\tjzhang\\Documents\\GitHub\\ITDintern\\datasets\\car_demo\\images\\imagetemp_2983_2023-06-20 030000.jpg: 384x640 (no detections), 0.0ms\n",
      "image 114/150 C:\\Users\\tjzhang\\Documents\\GitHub\\ITDintern\\datasets\\car_demo\\images\\imagetemp_2983_2023-06-20 031500.jpg: 384x640 (no detections), 10.1ms\n",
      "image 115/150 C:\\Users\\tjzhang\\Documents\\GitHub\\ITDintern\\datasets\\car_demo\\images\\imagetemp_2983_2023-06-20 033000.jpg: 384x640 (no detections), 10.2ms\n",
      "image 116/150 C:\\Users\\tjzhang\\Documents\\GitHub\\ITDintern\\datasets\\car_demo\\images\\imagetemp_2983_2023-06-20 034500.jpg: 384x640 (no detections), 0.0ms\n",
      "image 117/150 C:\\Users\\tjzhang\\Documents\\GitHub\\ITDintern\\datasets\\car_demo\\images\\imagetemp_2983_2023-06-20 120000.jpg: 384x640 (no detections), 0.0ms\n",
      "image 118/150 C:\\Users\\tjzhang\\Documents\\GitHub\\ITDintern\\datasets\\car_demo\\images\\imagetemp_2983_2023-06-20 121500.jpg: 384x640 (no detections), 10.1ms\n",
      "image 119/150 C:\\Users\\tjzhang\\Documents\\GitHub\\ITDintern\\datasets\\car_demo\\images\\imagetemp_2983_2023-06-20 123000.jpg: 384x640 (no detections), 10.1ms\n",
      "image 120/150 C:\\Users\\tjzhang\\Documents\\GitHub\\ITDintern\\datasets\\car_demo\\images\\imagetemp_2983_2023-06-20 124500.jpg: 384x640 (no detections), 10.1ms\n",
      "image 121/150 C:\\Users\\tjzhang\\Documents\\GitHub\\ITDintern\\datasets\\car_demo\\images\\imagetemp_2983_2023-06-20 130000.jpg: 384x640 (no detections), 0.0ms\n",
      "image 122/150 C:\\Users\\tjzhang\\Documents\\GitHub\\ITDintern\\datasets\\car_demo\\images\\imagetemp_2983_2023-06-20 131500.jpg: 384x640 (no detections), 10.1ms\n",
      "image 123/150 C:\\Users\\tjzhang\\Documents\\GitHub\\ITDintern\\datasets\\car_demo\\images\\imagetemp_2983_2023-06-20 133000.jpg: 384x640 (no detections), 10.1ms\n",
      "image 124/150 C:\\Users\\tjzhang\\Documents\\GitHub\\ITDintern\\datasets\\car_demo\\images\\imagetemp_2983_2023-06-20 134500.jpg: 384x640 (no detections), 0.0ms\n",
      "image 125/150 C:\\Users\\tjzhang\\Documents\\GitHub\\ITDintern\\datasets\\car_demo\\images\\imagetemp_2983_2023-06-20 140000.jpg: 384x640 (no detections), 0.0ms\n",
      "image 126/150 C:\\Users\\tjzhang\\Documents\\GitHub\\ITDintern\\datasets\\car_demo\\images\\imagetemp_2983_2023-06-20 141500.jpg: 384x640 (no detections), 10.1ms\n",
      "image 127/150 C:\\Users\\tjzhang\\Documents\\GitHub\\ITDintern\\datasets\\car_demo\\images\\imagetemp_2983_2023-06-20 143000.jpg: 384x640 (no detections), 10.1ms\n",
      "image 128/150 C:\\Users\\tjzhang\\Documents\\GitHub\\ITDintern\\datasets\\car_demo\\images\\imagetemp_2983_2023-06-20 144500.jpg: 384x640 (no detections), 0.0ms\n",
      "image 129/150 C:\\Users\\tjzhang\\Documents\\GitHub\\ITDintern\\datasets\\car_demo\\images\\imagetemp_2985_2023-06-20 000000.jpg: 384x640 (no detections), 0.0ms\n",
      "image 130/150 C:\\Users\\tjzhang\\Documents\\GitHub\\ITDintern\\datasets\\car_demo\\images\\imagetemp_2985_2023-06-20 001500.jpg: 384x640 (no detections), 10.2ms\n",
      "image 131/150 C:\\Users\\tjzhang\\Documents\\GitHub\\ITDintern\\datasets\\car_demo\\images\\imagetemp_2985_2023-06-20 003000.jpg: 384x640 (no detections), 10.2ms\n",
      "image 132/150 C:\\Users\\tjzhang\\Documents\\GitHub\\ITDintern\\datasets\\car_demo\\images\\imagetemp_2985_2023-06-20 004500.jpg: 384x640 (no detections), 0.0ms\n",
      "image 133/150 C:\\Users\\tjzhang\\Documents\\GitHub\\ITDintern\\datasets\\car_demo\\images\\imagetemp_2985_2023-06-20 010000.jpg: 384x640 (no detections), 0.0ms\n",
      "image 134/150 C:\\Users\\tjzhang\\Documents\\GitHub\\ITDintern\\datasets\\car_demo\\images\\imagetemp_2985_2023-06-20 011500.jpg: 384x640 (no detections), 10.1ms\n",
      "image 135/150 C:\\Users\\tjzhang\\Documents\\GitHub\\ITDintern\\datasets\\car_demo\\images\\imagetemp_2985_2023-06-20 013000.jpg: 384x640 (no detections), 10.2ms\n",
      "image 136/150 C:\\Users\\tjzhang\\Documents\\GitHub\\ITDintern\\datasets\\car_demo\\images\\imagetemp_2985_2023-06-20 014500.jpg: 384x640 (no detections), 10.1ms\n",
      "image 137/150 C:\\Users\\tjzhang\\Documents\\GitHub\\ITDintern\\datasets\\car_demo\\images\\imagetemp_2985_2023-06-20 020000.jpg: 384x640 (no detections), 0.0ms\n",
      "image 138/150 C:\\Users\\tjzhang\\Documents\\GitHub\\ITDintern\\datasets\\car_demo\\images\\imagetemp_2985_2023-06-20 021500.jpg: 384x640 (no detections), 0.0ms\n",
      "image 139/150 C:\\Users\\tjzhang\\Documents\\GitHub\\ITDintern\\datasets\\car_demo\\images\\imagetemp_2985_2023-06-20 023000.jpg: 384x640 (no detections), 10.2ms\n",
      "image 140/150 C:\\Users\\tjzhang\\Documents\\GitHub\\ITDintern\\datasets\\car_demo\\images\\imagetemp_2985_2023-06-20 024500.jpg: 384x640 (no detections), 10.1ms\n",
      "image 141/150 C:\\Users\\tjzhang\\Documents\\GitHub\\ITDintern\\datasets\\car_demo\\images\\imagetemp_2985_2023-06-20 030000.jpg: 384x640 (no detections), 0.0ms\n",
      "image 142/150 C:\\Users\\tjzhang\\Documents\\GitHub\\ITDintern\\datasets\\car_demo\\images\\imagetemp_2985_2023-06-20 031500.jpg: 384x640 (no detections), 10.1ms\n",
      "image 143/150 C:\\Users\\tjzhang\\Documents\\GitHub\\ITDintern\\datasets\\car_demo\\images\\imagetemp_2985_2023-06-20 033000.jpg: 384x640 (no detections), 10.2ms\n",
      "image 144/150 C:\\Users\\tjzhang\\Documents\\GitHub\\ITDintern\\datasets\\car_demo\\images\\imagetemp_2985_2023-06-20 034500.jpg: 384x640 (no detections), 0.0ms\n",
      "image 145/150 C:\\Users\\tjzhang\\Documents\\GitHub\\ITDintern\\datasets\\car_demo\\images\\imagetemp_2985_2023-06-20 040000.jpg: 384x640 (no detections), 10.1ms\n",
      "image 146/150 C:\\Users\\tjzhang\\Documents\\GitHub\\ITDintern\\datasets\\car_demo\\images\\imagetemp_2985_2023-06-20 120000.jpg: 384x640 (no detections), 10.1ms\n",
      "image 147/150 C:\\Users\\tjzhang\\Documents\\GitHub\\ITDintern\\datasets\\car_demo\\images\\imagetemp_2985_2023-06-20 121500.jpg: 384x640 (no detections), 7.5ms\n",
      "image 148/150 C:\\Users\\tjzhang\\Documents\\GitHub\\ITDintern\\datasets\\car_demo\\images\\imagetemp_2985_2023-06-20 123000.jpg: 384x640 (no detections), 7.0ms\n",
      "image 149/150 C:\\Users\\tjzhang\\Documents\\GitHub\\ITDintern\\datasets\\car_demo\\images\\imagetemp_2985_2023-06-20 124500.jpg: 384x640 (no detections), 6.0ms\n",
      "image 150/150 C:\\Users\\tjzhang\\Documents\\GitHub\\ITDintern\\datasets\\car_demo\\images\\imagetemp_2985_2023-06-20 130000.jpg: 384x640 (no detections), 0.0ms\n",
      "Speed: 0.3ms pre-process, 5.7ms inference, 0.4ms NMS per image at shape (1, 3, 640, 640)\n",
      "Results saved to \u001b[1mruns\\detect\\exp3\u001b[0m\n"
     ]
    },
    {
     "name": "stderr",
     "output_type": "stream",
     "text": [
      "\u001b[34m\u001b[1mdetect: \u001b[0mweights=['runs/train/exp/weights/best.pt'], source=../datasets/car_demo/images, data=data\\coco128.yaml, imgsz=[640, 640], conf_thres=0.25, iou_thres=0.45, max_det=1000, device=, view_img=False, save_txt=False, save_conf=False, save_crop=False, nosave=False, classes=None, agnostic_nms=False, augment=False, visualize=False, update=False, project=runs\\detect, name=exp, exist_ok=False, line_thickness=3, hide_labels=False, hide_conf=False, half=False, dnn=False, vid_stride=1\n",
      "YOLOv5  2023-6-20 Python-3.11.3 torch-2.0.1+cu118 CUDA:0 (NVIDIA RTX A1000 Laptop GPU, 4096MiB)\n",
      "\n",
      "Fusing layers... \n",
      "Model summary: 157 layers, 7012822 parameters, 0 gradients, 15.8 GFLOPs\n",
      "image 1/150 C:\\Users\\tjzhang\\Documents\\GitHub\\ITDintern\\datasets\\car_demo\\images\\imagetemp_2247_2023-06-20 000000.jpg: 384x640 (no detections), 50.0ms\n",
      "image 2/150 C:\\Users\\tjzhang\\Documents\\GitHub\\ITDintern\\datasets\\car_demo\\images\\imagetemp_2247_2023-06-20 001500.jpg: 384x640 (no detections), 5.0ms\n",
      "image 3/150 C:\\Users\\tjzhang\\Documents\\GitHub\\ITDintern\\datasets\\car_demo\\images\\imagetemp_2247_2023-06-20 003000.jpg: 384x640 (no detections), 4.0ms\n",
      "image 4/150 C:\\Users\\tjzhang\\Documents\\GitHub\\ITDintern\\datasets\\car_demo\\images\\imagetemp_2247_2023-06-20 004500.jpg: 384x640 (no detections), 4.0ms\n",
      "image 5/150 C:\\Users\\tjzhang\\Documents\\GitHub\\ITDintern\\datasets\\car_demo\\images\\imagetemp_2247_2023-06-20 010000.jpg: 384x640 (no detections), 5.0ms\n",
      "image 6/150 C:\\Users\\tjzhang\\Documents\\GitHub\\ITDintern\\datasets\\car_demo\\images\\imagetemp_2247_2023-06-20 011500.jpg: 384x640 (no detections), 5.0ms\n",
      "image 7/150 C:\\Users\\tjzhang\\Documents\\GitHub\\ITDintern\\datasets\\car_demo\\images\\imagetemp_2247_2023-06-20 013000.jpg: 384x640 (no detections), 4.0ms\n",
      "image 8/150 C:\\Users\\tjzhang\\Documents\\GitHub\\ITDintern\\datasets\\car_demo\\images\\imagetemp_2247_2023-06-20 014500.jpg: 384x640 (no detections), 4.0ms\n",
      "image 9/150 C:\\Users\\tjzhang\\Documents\\GitHub\\ITDintern\\datasets\\car_demo\\images\\imagetemp_2247_2023-06-20 020000.jpg: 384x640 (no detections), 0.0ms\n",
      "image 10/150 C:\\Users\\tjzhang\\Documents\\GitHub\\ITDintern\\datasets\\car_demo\\images\\imagetemp_2247_2023-06-20 021500.jpg: 384x640 (no detections), 10.1ms\n",
      "image 11/150 C:\\Users\\tjzhang\\Documents\\GitHub\\ITDintern\\datasets\\car_demo\\images\\imagetemp_2247_2023-06-20 023000.jpg: 384x640 (no detections), 10.1ms\n",
      "image 12/150 C:\\Users\\tjzhang\\Documents\\GitHub\\ITDintern\\datasets\\car_demo\\images\\imagetemp_2247_2023-06-20 024500.jpg: 384x640 (no detections), 4.0ms\n",
      "image 13/150 C:\\Users\\tjzhang\\Documents\\GitHub\\ITDintern\\datasets\\car_demo\\images\\imagetemp_2247_2023-06-20 030000.jpg: 384x640 (no detections), 4.0ms\n",
      "image 14/150 C:\\Users\\tjzhang\\Documents\\GitHub\\ITDintern\\datasets\\car_demo\\images\\imagetemp_2247_2023-06-20 031500.jpg: 384x640 (no detections), 5.0ms\n",
      "image 15/150 C:\\Users\\tjzhang\\Documents\\GitHub\\ITDintern\\datasets\\car_demo\\images\\imagetemp_2247_2023-06-20 114500.jpg: 384x640 (no detections), 5.0ms\n",
      "image 16/150 C:\\Users\\tjzhang\\Documents\\GitHub\\ITDintern\\datasets\\car_demo\\images\\imagetemp_2247_2023-06-20 120000.jpg: 384x640 (no detections), 5.0ms\n",
      "image 17/150 C:\\Users\\tjzhang\\Documents\\GitHub\\ITDintern\\datasets\\car_demo\\images\\imagetemp_2247_2023-06-20 121500.jpg: 384x640 (no detections), 4.0ms\n",
      "image 18/150 C:\\Users\\tjzhang\\Documents\\GitHub\\ITDintern\\datasets\\car_demo\\images\\imagetemp_2247_2023-06-20 123000.jpg: 384x640 (no detections), 5.0ms\n",
      "image 19/150 C:\\Users\\tjzhang\\Documents\\GitHub\\ITDintern\\datasets\\car_demo\\images\\imagetemp_2247_2023-06-20 124500.jpg: 384x640 (no detections), 5.0ms\n",
      "image 20/150 C:\\Users\\tjzhang\\Documents\\GitHub\\ITDintern\\datasets\\car_demo\\images\\imagetemp_2247_2023-06-20 130000.jpg: 384x640 (no detections), 5.0ms\n",
      "image 21/150 C:\\Users\\tjzhang\\Documents\\GitHub\\ITDintern\\datasets\\car_demo\\images\\imagetemp_2247_2023-06-20 131500.jpg: 384x640 (no detections), 5.0ms\n",
      "image 22/150 C:\\Users\\tjzhang\\Documents\\GitHub\\ITDintern\\datasets\\car_demo\\images\\imagetemp_2247_2023-06-20 133000.jpg: 384x640 (no detections), 5.0ms\n",
      "image 23/150 C:\\Users\\tjzhang\\Documents\\GitHub\\ITDintern\\datasets\\car_demo\\images\\imagetemp_2247_2023-06-20 134500.jpg: 384x640 (no detections), 5.0ms\n",
      "image 24/150 C:\\Users\\tjzhang\\Documents\\GitHub\\ITDintern\\datasets\\car_demo\\images\\imagetemp_2247_2023-06-20 140000.jpg: 384x640 (no detections), 5.0ms\n",
      "image 25/150 C:\\Users\\tjzhang\\Documents\\GitHub\\ITDintern\\datasets\\car_demo\\images\\imagetemp_2247_2023-06-20 141500.jpg: 384x640 (no detections), 4.0ms\n",
      "image 26/150 C:\\Users\\tjzhang\\Documents\\GitHub\\ITDintern\\datasets\\car_demo\\images\\imagetemp_2247_2023-06-20 143000.jpg: 384x640 (no detections), 4.0ms\n",
      "image 27/150 C:\\Users\\tjzhang\\Documents\\GitHub\\ITDintern\\datasets\\car_demo\\images\\imagetemp_2247_2023-06-20 144500.jpg: 384x640 (no detections), 4.0ms\n",
      "image 28/150 C:\\Users\\tjzhang\\Documents\\GitHub\\ITDintern\\datasets\\car_demo\\images\\imagetemp_2248_2023-06-20 000000.jpg: 384x640 (no detections), 4.1ms\n",
      "image 29/150 C:\\Users\\tjzhang\\Documents\\GitHub\\ITDintern\\datasets\\car_demo\\images\\imagetemp_2248_2023-06-20 001500.jpg: 384x640 (no detections), 4.0ms\n",
      "image 30/150 C:\\Users\\tjzhang\\Documents\\GitHub\\ITDintern\\datasets\\car_demo\\images\\imagetemp_2248_2023-06-20 003000.jpg: 384x640 (no detections), 5.0ms\n",
      "image 31/150 C:\\Users\\tjzhang\\Documents\\GitHub\\ITDintern\\datasets\\car_demo\\images\\imagetemp_2248_2023-06-20 004500.jpg: 384x640 (no detections), 4.0ms\n",
      "image 32/150 C:\\Users\\tjzhang\\Documents\\GitHub\\ITDintern\\datasets\\car_demo\\images\\imagetemp_2248_2023-06-20 010000.jpg: 384x640 (no detections), 5.0ms\n",
      "image 33/150 C:\\Users\\tjzhang\\Documents\\GitHub\\ITDintern\\datasets\\car_demo\\images\\imagetemp_2248_2023-06-20 011500.jpg: 384x640 (no detections), 4.9ms\n",
      "image 34/150 C:\\Users\\tjzhang\\Documents\\GitHub\\ITDintern\\datasets\\car_demo\\images\\imagetemp_2248_2023-06-20 013000.jpg: 384x640 (no detections), 5.0ms\n",
      "image 35/150 C:\\Users\\tjzhang\\Documents\\GitHub\\ITDintern\\datasets\\car_demo\\images\\imagetemp_2248_2023-06-20 014500.jpg: 384x640 (no detections), 4.1ms\n",
      "image 36/150 C:\\Users\\tjzhang\\Documents\\GitHub\\ITDintern\\datasets\\car_demo\\images\\imagetemp_2248_2023-06-20 020000.jpg: 384x640 (no detections), 5.0ms\n",
      "image 37/150 C:\\Users\\tjzhang\\Documents\\GitHub\\ITDintern\\datasets\\car_demo\\images\\imagetemp_2248_2023-06-20 021500.jpg: 384x640 (no detections), 5.0ms\n",
      "image 38/150 C:\\Users\\tjzhang\\Documents\\GitHub\\ITDintern\\datasets\\car_demo\\images\\imagetemp_2248_2023-06-20 023000.jpg: 384x640 (no detections), 4.0ms\n",
      "image 39/150 C:\\Users\\tjzhang\\Documents\\GitHub\\ITDintern\\datasets\\car_demo\\images\\imagetemp_2248_2023-06-20 024500.jpg: 384x640 (no detections), 5.0ms\n",
      "image 40/150 C:\\Users\\tjzhang\\Documents\\GitHub\\ITDintern\\datasets\\car_demo\\images\\imagetemp_2248_2023-06-20 120000.jpg: 384x640 (no detections), 5.0ms\n",
      "image 41/150 C:\\Users\\tjzhang\\Documents\\GitHub\\ITDintern\\datasets\\car_demo\\images\\imagetemp_2248_2023-06-20 121500.jpg: 384x640 (no detections), 4.0ms\n",
      "image 42/150 C:\\Users\\tjzhang\\Documents\\GitHub\\ITDintern\\datasets\\car_demo\\images\\imagetemp_2248_2023-06-20 123000.jpg: 384x640 (no detections), 5.1ms\n",
      "image 43/150 C:\\Users\\tjzhang\\Documents\\GitHub\\ITDintern\\datasets\\car_demo\\images\\imagetemp_2248_2023-06-20 124500.jpg: 384x640 (no detections), 5.0ms\n",
      "image 44/150 C:\\Users\\tjzhang\\Documents\\GitHub\\ITDintern\\datasets\\car_demo\\images\\imagetemp_2248_2023-06-20 130000.jpg: 384x640 (no detections), 5.1ms\n",
      "image 45/150 C:\\Users\\tjzhang\\Documents\\GitHub\\ITDintern\\datasets\\car_demo\\images\\imagetemp_2248_2023-06-20 131500.jpg: 384x640 (no detections), 5.0ms\n",
      "image 46/150 C:\\Users\\tjzhang\\Documents\\GitHub\\ITDintern\\datasets\\car_demo\\images\\imagetemp_2248_2023-06-20 133000.jpg: 384x640 (no detections), 1.4ms\n",
      "image 47/150 C:\\Users\\tjzhang\\Documents\\GitHub\\ITDintern\\datasets\\car_demo\\images\\imagetemp_2248_2023-06-20 134500.jpg: 384x640 (no detections), 10.3ms\n",
      "image 48/150 C:\\Users\\tjzhang\\Documents\\GitHub\\ITDintern\\datasets\\car_demo\\images\\imagetemp_2248_2023-06-20 140000.jpg: 384x640 (no detections), 0.0ms\n",
      "image 49/150 C:\\Users\\tjzhang\\Documents\\GitHub\\ITDintern\\datasets\\car_demo\\images\\imagetemp_2248_2023-06-20 141500.jpg: 384x640 (no detections), 0.0ms\n",
      "image 50/150 C:\\Users\\tjzhang\\Documents\\GitHub\\ITDintern\\datasets\\car_demo\\images\\imagetemp_2248_2023-06-20 143000.jpg: 384x640 (no detections), 10.2ms\n",
      "image 51/150 C:\\Users\\tjzhang\\Documents\\GitHub\\ITDintern\\datasets\\car_demo\\images\\imagetemp_2248_2023-06-20 144500.jpg: 384x640 (no detections), 10.3ms\n",
      "image 52/150 C:\\Users\\tjzhang\\Documents\\GitHub\\ITDintern\\datasets\\car_demo\\images\\imagetemp_2249_2023-06-20 000000.jpg: 384x640 (no detections), 0.0ms\n",
      "image 53/150 C:\\Users\\tjzhang\\Documents\\GitHub\\ITDintern\\datasets\\car_demo\\images\\imagetemp_2249_2023-06-20 001500.jpg: 384x640 (no detections), 0.0ms\n",
      "image 54/150 C:\\Users\\tjzhang\\Documents\\GitHub\\ITDintern\\datasets\\car_demo\\images\\imagetemp_2249_2023-06-20 003000.jpg: 384x640 (no detections), 10.3ms\n",
      "image 55/150 C:\\Users\\tjzhang\\Documents\\GitHub\\ITDintern\\datasets\\car_demo\\images\\imagetemp_2249_2023-06-20 004500.jpg: 384x640 (no detections), 0.0ms\n",
      "image 56/150 C:\\Users\\tjzhang\\Documents\\GitHub\\ITDintern\\datasets\\car_demo\\images\\imagetemp_2249_2023-06-20 010000.jpg: 384x640 (no detections), 0.0ms\n",
      "image 57/150 C:\\Users\\tjzhang\\Documents\\GitHub\\ITDintern\\datasets\\car_demo\\images\\imagetemp_2249_2023-06-20 011500.jpg: 384x640 (no detections), 10.3ms\n",
      "image 58/150 C:\\Users\\tjzhang\\Documents\\GitHub\\ITDintern\\datasets\\car_demo\\images\\imagetemp_2249_2023-06-20 013000.jpg: 384x640 (no detections), 0.0ms\n",
      "image 59/150 C:\\Users\\tjzhang\\Documents\\GitHub\\ITDintern\\datasets\\car_demo\\images\\imagetemp_2249_2023-06-20 014500.jpg: 384x640 (no detections), 10.2ms\n",
      "image 60/150 C:\\Users\\tjzhang\\Documents\\GitHub\\ITDintern\\datasets\\car_demo\\images\\imagetemp_2249_2023-06-20 020000.jpg: 384x640 (no detections), 10.2ms\n",
      "image 61/150 C:\\Users\\tjzhang\\Documents\\GitHub\\ITDintern\\datasets\\car_demo\\images\\imagetemp_2249_2023-06-20 021500.jpg: 384x640 (no detections), 0.0ms\n",
      "image 62/150 C:\\Users\\tjzhang\\Documents\\GitHub\\ITDintern\\datasets\\car_demo\\images\\imagetemp_2249_2023-06-20 023000.jpg: 384x640 (no detections), 4.0ms\n",
      "image 63/150 C:\\Users\\tjzhang\\Documents\\GitHub\\ITDintern\\datasets\\car_demo\\images\\imagetemp_2249_2023-06-20 024500.jpg: 384x640 (no detections), 0.0ms\n",
      "image 64/150 C:\\Users\\tjzhang\\Documents\\GitHub\\ITDintern\\datasets\\car_demo\\images\\imagetemp_2249_2023-06-20 030000.jpg: 384x640 (no detections), 0.0ms\n",
      "image 65/150 C:\\Users\\tjzhang\\Documents\\GitHub\\ITDintern\\datasets\\car_demo\\images\\imagetemp_2249_2023-06-20 031500.jpg: 384x640 (no detections), 10.3ms\n",
      "image 66/150 C:\\Users\\tjzhang\\Documents\\GitHub\\ITDintern\\datasets\\car_demo\\images\\imagetemp_2249_2023-06-20 120000.jpg: 384x640 (no detections), 0.0ms\n",
      "image 67/150 C:\\Users\\tjzhang\\Documents\\GitHub\\ITDintern\\datasets\\car_demo\\images\\imagetemp_2249_2023-06-20 121500.jpg: 384x640 (no detections), 10.3ms\n",
      "image 68/150 C:\\Users\\tjzhang\\Documents\\GitHub\\ITDintern\\datasets\\car_demo\\images\\imagetemp_2249_2023-06-20 123000.jpg: 384x640 (no detections), 0.0ms\n",
      "image 69/150 C:\\Users\\tjzhang\\Documents\\GitHub\\ITDintern\\datasets\\car_demo\\images\\imagetemp_2249_2023-06-20 124500.jpg: 384x640 (no detections), 0.0ms\n",
      "image 70/150 C:\\Users\\tjzhang\\Documents\\GitHub\\ITDintern\\datasets\\car_demo\\images\\imagetemp_2249_2023-06-20 130000.jpg: 384x640 (no detections), 10.2ms\n",
      "image 71/150 C:\\Users\\tjzhang\\Documents\\GitHub\\ITDintern\\datasets\\car_demo\\images\\imagetemp_2249_2023-06-20 131500.jpg: 384x640 (no detections), 0.0ms\n",
      "image 72/150 C:\\Users\\tjzhang\\Documents\\GitHub\\ITDintern\\datasets\\car_demo\\images\\imagetemp_2249_2023-06-20 133000.jpg: 384x640 (no detections), 0.0ms\n",
      "image 73/150 C:\\Users\\tjzhang\\Documents\\GitHub\\ITDintern\\datasets\\car_demo\\images\\imagetemp_2249_2023-06-20 134500.jpg: 384x640 (no detections), 8.0ms\n",
      "image 74/150 C:\\Users\\tjzhang\\Documents\\GitHub\\ITDintern\\datasets\\car_demo\\images\\imagetemp_2249_2023-06-20 140000.jpg: 384x640 (no detections), 5.0ms\n",
      "image 75/150 C:\\Users\\tjzhang\\Documents\\GitHub\\ITDintern\\datasets\\car_demo\\images\\imagetemp_2249_2023-06-20 141500.jpg: 384x640 (no detections), 5.0ms\n",
      "image 76/150 C:\\Users\\tjzhang\\Documents\\GitHub\\ITDintern\\datasets\\car_demo\\images\\imagetemp_2249_2023-06-20 143000.jpg: 384x640 (no detections), 2.2ms\n",
      "image 77/150 C:\\Users\\tjzhang\\Documents\\GitHub\\ITDintern\\datasets\\car_demo\\images\\imagetemp_2249_2023-06-20 144500.jpg: 384x640 (no detections), 0.0ms\n",
      "image 78/150 C:\\Users\\tjzhang\\Documents\\GitHub\\ITDintern\\datasets\\car_demo\\images\\imagetemp_2970_2023-06-20 000000.jpg: 384x640 (no detections), 10.2ms\n",
      "image 79/150 C:\\Users\\tjzhang\\Documents\\GitHub\\ITDintern\\datasets\\car_demo\\images\\imagetemp_2970_2023-06-20 001500.jpg: 384x640 (no detections), 10.3ms\n",
      "image 80/150 C:\\Users\\tjzhang\\Documents\\GitHub\\ITDintern\\datasets\\car_demo\\images\\imagetemp_2970_2023-06-20 003000.jpg: 384x640 (no detections), 0.0ms\n",
      "image 81/150 C:\\Users\\tjzhang\\Documents\\GitHub\\ITDintern\\datasets\\car_demo\\images\\imagetemp_2970_2023-06-20 004500.jpg: 384x640 (no detections), 0.0ms\n",
      "image 82/150 C:\\Users\\tjzhang\\Documents\\GitHub\\ITDintern\\datasets\\car_demo\\images\\imagetemp_2970_2023-06-20 010000.jpg: 384x640 (no detections), 4.0ms\n",
      "image 83/150 C:\\Users\\tjzhang\\Documents\\GitHub\\ITDintern\\datasets\\car_demo\\images\\imagetemp_2970_2023-06-20 011500.jpg: 384x640 (no detections), 5.0ms\n",
      "image 84/150 C:\\Users\\tjzhang\\Documents\\GitHub\\ITDintern\\datasets\\car_demo\\images\\imagetemp_2970_2023-06-20 013000.jpg: 384x640 (no detections), 0.0ms\n",
      "image 85/150 C:\\Users\\tjzhang\\Documents\\GitHub\\ITDintern\\datasets\\car_demo\\images\\imagetemp_2970_2023-06-20 014500.jpg: 384x640 (no detections), 6.7ms\n",
      "image 86/150 C:\\Users\\tjzhang\\Documents\\GitHub\\ITDintern\\datasets\\car_demo\\images\\imagetemp_2970_2023-06-20 020000.jpg: 384x640 (no detections), 0.0ms\n",
      "image 87/150 C:\\Users\\tjzhang\\Documents\\GitHub\\ITDintern\\datasets\\car_demo\\images\\imagetemp_2970_2023-06-20 021500.jpg: 384x640 (no detections), 6.5ms\n",
      "image 88/150 C:\\Users\\tjzhang\\Documents\\GitHub\\ITDintern\\datasets\\car_demo\\images\\imagetemp_2970_2023-06-20 114500.jpg: 384x640 (no detections), 10.2ms\n",
      "image 89/150 C:\\Users\\tjzhang\\Documents\\GitHub\\ITDintern\\datasets\\car_demo\\images\\imagetemp_2970_2023-06-20 120000.jpg: 384x640 (no detections), 7.6ms\n",
      "image 90/150 C:\\Users\\tjzhang\\Documents\\GitHub\\ITDintern\\datasets\\car_demo\\images\\imagetemp_2970_2023-06-20 121500.jpg: 384x640 (no detections), 0.0ms\n",
      "image 91/150 C:\\Users\\tjzhang\\Documents\\GitHub\\ITDintern\\datasets\\car_demo\\images\\imagetemp_2970_2023-06-20 123000.jpg: 384x640 (no detections), 0.0ms\n",
      "image 92/150 C:\\Users\\tjzhang\\Documents\\GitHub\\ITDintern\\datasets\\car_demo\\images\\imagetemp_2970_2023-06-20 124500.jpg: 384x640 (no detections), 11.7ms\n",
      "image 93/150 C:\\Users\\tjzhang\\Documents\\GitHub\\ITDintern\\datasets\\car_demo\\images\\imagetemp_2970_2023-06-20 130000.jpg: 384x640 (no detections), 0.0ms\n",
      "image 94/150 C:\\Users\\tjzhang\\Documents\\GitHub\\ITDintern\\datasets\\car_demo\\images\\imagetemp_2970_2023-06-20 131500.jpg: 384x640 (no detections), 0.0ms\n",
      "image 95/150 C:\\Users\\tjzhang\\Documents\\GitHub\\ITDintern\\datasets\\car_demo\\images\\imagetemp_2970_2023-06-20 133000.jpg: 384x640 (no detections), 6.7ms\n",
      "image 96/150 C:\\Users\\tjzhang\\Documents\\GitHub\\ITDintern\\datasets\\car_demo\\images\\imagetemp_2970_2023-06-20 134500.jpg: 384x640 (no detections), 2.2ms\n",
      "image 97/150 C:\\Users\\tjzhang\\Documents\\GitHub\\ITDintern\\datasets\\car_demo\\images\\imagetemp_2970_2023-06-20 140000.jpg: 384x640 (no detections), 5.2ms\n",
      "image 98/150 C:\\Users\\tjzhang\\Documents\\GitHub\\ITDintern\\datasets\\car_demo\\images\\imagetemp_2970_2023-06-20 141500.jpg: 384x640 (no detections), 0.0ms\n",
      "image 99/150 C:\\Users\\tjzhang\\Documents\\GitHub\\ITDintern\\datasets\\car_demo\\images\\imagetemp_2970_2023-06-20 143000.jpg: 384x640 (no detections), 8.2ms\n",
      "image 100/150 C:\\Users\\tjzhang\\Documents\\GitHub\\ITDintern\\datasets\\car_demo\\images\\imagetemp_2970_2023-06-20 144500.jpg: 384x640 (no detections), 1.7ms\n",
      "image 101/150 C:\\Users\\tjzhang\\Documents\\GitHub\\ITDintern\\datasets\\car_demo\\images\\imagetemp_2983_2023-06-20 000000.jpg: 384x640 (no detections), 4.6ms\n",
      "image 102/150 C:\\Users\\tjzhang\\Documents\\GitHub\\ITDintern\\datasets\\car_demo\\images\\imagetemp_2983_2023-06-20 001500.jpg: 384x640 (no detections), 9.0ms\n",
      "image 103/150 C:\\Users\\tjzhang\\Documents\\GitHub\\ITDintern\\datasets\\car_demo\\images\\imagetemp_2983_2023-06-20 003000.jpg: 384x640 (no detections), 9.7ms\n",
      "image 104/150 C:\\Users\\tjzhang\\Documents\\GitHub\\ITDintern\\datasets\\car_demo\\images\\imagetemp_2983_2023-06-20 004500.jpg: 384x640 (no detections), 0.0ms\n",
      "image 105/150 C:\\Users\\tjzhang\\Documents\\GitHub\\ITDintern\\datasets\\car_demo\\images\\imagetemp_2983_2023-06-20 010000.jpg: 384x640 (no detections), 7.1ms\n",
      "image 106/150 C:\\Users\\tjzhang\\Documents\\GitHub\\ITDintern\\datasets\\car_demo\\images\\imagetemp_2983_2023-06-20 011500.jpg: 384x640 (no detections), 1.8ms\n",
      "image 107/150 C:\\Users\\tjzhang\\Documents\\GitHub\\ITDintern\\datasets\\car_demo\\images\\imagetemp_2983_2023-06-20 013000.jpg: 384x640 (no detections), 5.6ms\n",
      "image 108/150 C:\\Users\\tjzhang\\Documents\\GitHub\\ITDintern\\datasets\\car_demo\\images\\imagetemp_2983_2023-06-20 014500.jpg: 384x640 (no detections), 0.0ms\n",
      "image 109/150 C:\\Users\\tjzhang\\Documents\\GitHub\\ITDintern\\datasets\\car_demo\\images\\imagetemp_2983_2023-06-20 020000.jpg: 384x640 (no detections), 9.2ms\n",
      "image 110/150 C:\\Users\\tjzhang\\Documents\\GitHub\\ITDintern\\datasets\\car_demo\\images\\imagetemp_2983_2023-06-20 021500.jpg: 384x640 (no detections), 0.0ms\n",
      "image 111/150 C:\\Users\\tjzhang\\Documents\\GitHub\\ITDintern\\datasets\\car_demo\\images\\imagetemp_2983_2023-06-20 023000.jpg: 384x640 (no detections), 5.1ms\n",
      "image 112/150 C:\\Users\\tjzhang\\Documents\\GitHub\\ITDintern\\datasets\\car_demo\\images\\imagetemp_2983_2023-06-20 024500.jpg: 384x640 (no detections), 4.4ms\n",
      "image 113/150 C:\\Users\\tjzhang\\Documents\\GitHub\\ITDintern\\datasets\\car_demo\\images\\imagetemp_2983_2023-06-20 030000.jpg: 384x640 (no detections), 10.2ms\n",
      "image 114/150 C:\\Users\\tjzhang\\Documents\\GitHub\\ITDintern\\datasets\\car_demo\\images\\imagetemp_2983_2023-06-20 031500.jpg: 384x640 (no detections), 4.0ms\n",
      "image 115/150 C:\\Users\\tjzhang\\Documents\\GitHub\\ITDintern\\datasets\\car_demo\\images\\imagetemp_2983_2023-06-20 033000.jpg: 384x640 (no detections), 4.0ms\n",
      "image 116/150 C:\\Users\\tjzhang\\Documents\\GitHub\\ITDintern\\datasets\\car_demo\\images\\imagetemp_2983_2023-06-20 034500.jpg: 384x640 (no detections), 5.0ms\n",
      "image 117/150 C:\\Users\\tjzhang\\Documents\\GitHub\\ITDintern\\datasets\\car_demo\\images\\imagetemp_2983_2023-06-20 120000.jpg: 384x640 (no detections), 5.0ms\n",
      "image 118/150 C:\\Users\\tjzhang\\Documents\\GitHub\\ITDintern\\datasets\\car_demo\\images\\imagetemp_2983_2023-06-20 121500.jpg: 384x640 (no detections), 2.7ms\n",
      "image 119/150 C:\\Users\\tjzhang\\Documents\\GitHub\\ITDintern\\datasets\\car_demo\\images\\imagetemp_2983_2023-06-20 123000.jpg: 384x640 (no detections), 10.3ms\n",
      "image 120/150 C:\\Users\\tjzhang\\Documents\\GitHub\\ITDintern\\datasets\\car_demo\\images\\imagetemp_2983_2023-06-20 124500.jpg: 384x640 (no detections), 10.2ms\n",
      "image 121/150 C:\\Users\\tjzhang\\Documents\\GitHub\\ITDintern\\datasets\\car_demo\\images\\imagetemp_2983_2023-06-20 130000.jpg: 384x640 (no detections), 5.0ms\n",
      "image 122/150 C:\\Users\\tjzhang\\Documents\\GitHub\\ITDintern\\datasets\\car_demo\\images\\imagetemp_2983_2023-06-20 131500.jpg: 384x640 (no detections), 5.0ms\n",
      "image 123/150 C:\\Users\\tjzhang\\Documents\\GitHub\\ITDintern\\datasets\\car_demo\\images\\imagetemp_2983_2023-06-20 133000.jpg: 384x640 (no detections), 4.2ms\n",
      "image 124/150 C:\\Users\\tjzhang\\Documents\\GitHub\\ITDintern\\datasets\\car_demo\\images\\imagetemp_2983_2023-06-20 134500.jpg: 384x640 (no detections), 5.5ms\n",
      "image 125/150 C:\\Users\\tjzhang\\Documents\\GitHub\\ITDintern\\datasets\\car_demo\\images\\imagetemp_2983_2023-06-20 140000.jpg: 384x640 (no detections), 4.0ms\n",
      "image 126/150 C:\\Users\\tjzhang\\Documents\\GitHub\\ITDintern\\datasets\\car_demo\\images\\imagetemp_2983_2023-06-20 141500.jpg: 384x640 (no detections), 5.0ms\n",
      "image 127/150 C:\\Users\\tjzhang\\Documents\\GitHub\\ITDintern\\datasets\\car_demo\\images\\imagetemp_2983_2023-06-20 143000.jpg: 384x640 (no detections), 5.0ms\n",
      "image 128/150 C:\\Users\\tjzhang\\Documents\\GitHub\\ITDintern\\datasets\\car_demo\\images\\imagetemp_2983_2023-06-20 144500.jpg: 384x640 (no detections), 3.7ms\n",
      "image 129/150 C:\\Users\\tjzhang\\Documents\\GitHub\\ITDintern\\datasets\\car_demo\\images\\imagetemp_2985_2023-06-20 000000.jpg: 384x640 (no detections), 6.2ms\n",
      "image 130/150 C:\\Users\\tjzhang\\Documents\\GitHub\\ITDintern\\datasets\\car_demo\\images\\imagetemp_2985_2023-06-20 001500.jpg: 384x640 (no detections), 5.0ms\n",
      "image 131/150 C:\\Users\\tjzhang\\Documents\\GitHub\\ITDintern\\datasets\\car_demo\\images\\imagetemp_2985_2023-06-20 003000.jpg: 384x640 (no detections), 5.0ms\n",
      "image 132/150 C:\\Users\\tjzhang\\Documents\\GitHub\\ITDintern\\datasets\\car_demo\\images\\imagetemp_2985_2023-06-20 004500.jpg: 384x640 (no detections), 4.0ms\n",
      "image 133/150 C:\\Users\\tjzhang\\Documents\\GitHub\\ITDintern\\datasets\\car_demo\\images\\imagetemp_2985_2023-06-20 010000.jpg: 384x640 (no detections), 4.0ms\n",
      "image 134/150 C:\\Users\\tjzhang\\Documents\\GitHub\\ITDintern\\datasets\\car_demo\\images\\imagetemp_2985_2023-06-20 011500.jpg: 384x640 (no detections), 5.0ms\n",
      "image 135/150 C:\\Users\\tjzhang\\Documents\\GitHub\\ITDintern\\datasets\\car_demo\\images\\imagetemp_2985_2023-06-20 013000.jpg: 384x640 (no detections), 4.0ms\n",
      "image 136/150 C:\\Users\\tjzhang\\Documents\\GitHub\\ITDintern\\datasets\\car_demo\\images\\imagetemp_2985_2023-06-20 014500.jpg: 384x640 (no detections), 4.0ms\n",
      "image 137/150 C:\\Users\\tjzhang\\Documents\\GitHub\\ITDintern\\datasets\\car_demo\\images\\imagetemp_2985_2023-06-20 020000.jpg: 384x640 (no detections), 5.0ms\n",
      "image 138/150 C:\\Users\\tjzhang\\Documents\\GitHub\\ITDintern\\datasets\\car_demo\\images\\imagetemp_2985_2023-06-20 021500.jpg: 384x640 (no detections), 5.0ms\n",
      "image 139/150 C:\\Users\\tjzhang\\Documents\\GitHub\\ITDintern\\datasets\\car_demo\\images\\imagetemp_2985_2023-06-20 023000.jpg: 384x640 (no detections), 5.0ms\n",
      "image 140/150 C:\\Users\\tjzhang\\Documents\\GitHub\\ITDintern\\datasets\\car_demo\\images\\imagetemp_2985_2023-06-20 024500.jpg: 384x640 (no detections), 5.0ms\n",
      "image 141/150 C:\\Users\\tjzhang\\Documents\\GitHub\\ITDintern\\datasets\\car_demo\\images\\imagetemp_2985_2023-06-20 030000.jpg: 384x640 (no detections), 5.0ms\n",
      "image 142/150 C:\\Users\\tjzhang\\Documents\\GitHub\\ITDintern\\datasets\\car_demo\\images\\imagetemp_2985_2023-06-20 031500.jpg: 384x640 (no detections), 5.0ms\n",
      "image 143/150 C:\\Users\\tjzhang\\Documents\\GitHub\\ITDintern\\datasets\\car_demo\\images\\imagetemp_2985_2023-06-20 033000.jpg: 384x640 (no detections), 4.0ms\n",
      "image 144/150 C:\\Users\\tjzhang\\Documents\\GitHub\\ITDintern\\datasets\\car_demo\\images\\imagetemp_2985_2023-06-20 034500.jpg: 384x640 (no detections), 4.0ms\n",
      "image 145/150 C:\\Users\\tjzhang\\Documents\\GitHub\\ITDintern\\datasets\\car_demo\\images\\imagetemp_2985_2023-06-20 040000.jpg: 384x640 (no detections), 4.0ms\n",
      "image 146/150 C:\\Users\\tjzhang\\Documents\\GitHub\\ITDintern\\datasets\\car_demo\\images\\imagetemp_2985_2023-06-20 120000.jpg: 384x640 (no detections), 4.0ms\n",
      "image 147/150 C:\\Users\\tjzhang\\Documents\\GitHub\\ITDintern\\datasets\\car_demo\\images\\imagetemp_2985_2023-06-20 121500.jpg: 384x640 (no detections), 5.0ms\n",
      "image 148/150 C:\\Users\\tjzhang\\Documents\\GitHub\\ITDintern\\datasets\\car_demo\\images\\imagetemp_2985_2023-06-20 123000.jpg: 384x640 (no detections), 4.0ms\n",
      "image 149/150 C:\\Users\\tjzhang\\Documents\\GitHub\\ITDintern\\datasets\\car_demo\\images\\imagetemp_2985_2023-06-20 124500.jpg: 384x640 (no detections), 4.2ms\n",
      "image 150/150 C:\\Users\\tjzhang\\Documents\\GitHub\\ITDintern\\datasets\\car_demo\\images\\imagetemp_2985_2023-06-20 130000.jpg: 384x640 (no detections), 4.0ms\n",
      "Speed: 0.5ms pre-process, 4.9ms inference, 0.3ms NMS per image at shape (1, 3, 640, 640)\n",
      "Results saved to \u001b[1mruns\\detect\\exp4\u001b[0m\n"
     ]
    }
   ],
   "source": [
    "# !python detect.py --weights yolov5s.pt --img 640 --conf 0.25 --source data/images\n",
    "!python detect.py --weights runs/train/exp/weights/best.pt --img 640 --conf 0.25 --source ../datasets/car_demo/images\n",
    "# display.Image(filename='runs/detect/exp/zidane.jpg', width=600)"
   ]
  },
  {
   "cell_type": "markdown",
   "metadata": {
    "id": "hkAzDWJ7cWTr"
   },
   "source": [
    "&nbsp;&nbsp;&nbsp;&nbsp;&nbsp;&nbsp;&nbsp;&nbsp;\n",
    "<img align=\"left\" src=\"https://user-images.githubusercontent.com/26833433/127574988-6a558aa1-d268-44b9-bf6b-62d4c605cc72.jpg\" width=\"600\">"
   ]
  },
  {
   "cell_type": "markdown",
   "metadata": {
    "id": "0eq1SMWl6Sfn"
   },
   "source": [
    "# 2. Validate\n",
    "Validate a model's accuracy on the [COCO](https://cocodataset.org/#home) dataset's `val` or `test` splits. Models are downloaded automatically from the [latest YOLOv5 release](https://github.com/ultralytics/yolov5/releases). To show results by class use the `--verbose` flag."
   ]
  },
  {
   "cell_type": "code",
   "execution_count": 3,
   "metadata": {
    "colab": {
     "base_uri": "https://localhost:8080/"
    },
    "id": "WQPtK1QYVaD_",
    "outputId": "cf7d52f0-281c-4c96-a488-79f5908f8426"
   },
   "outputs": [
    {
     "name": "stderr",
     "output_type": "stream",
     "text": [
      "100%|██████████| 780M/780M [00:12<00:00, 66.6MB/s]\n"
     ]
    }
   ],
   "source": [
    "# Download COCO val\n",
    "torch.hub.download_url_to_file('https://ultralytics.com/assets/coco2017val.zip', 'tmp.zip')  # download (780M - 5000 images)\n",
    "!unzip -q tmp.zip -d ../datasets && rm tmp.zip  # unzip"
   ]
  },
  {
   "cell_type": "code",
   "execution_count": 4,
   "metadata": {
    "colab": {
     "base_uri": "https://localhost:8080/"
    },
    "id": "X58w8JLpMnjH",
    "outputId": "3e234e05-ee8b-4ad1-b1a4-f6a55d5e4f3d"
   },
   "outputs": [
    {
     "name": "stdout",
     "output_type": "stream",
     "text": [
      "\u001b[34m\u001b[1mval: \u001b[0mdata=/content/yolov5/data/coco.yaml, weights=['yolov5s.pt'], batch_size=32, imgsz=640, conf_thres=0.001, iou_thres=0.6, max_det=300, task=val, device=, workers=8, single_cls=False, augment=False, verbose=False, save_txt=False, save_hybrid=False, save_conf=False, save_json=True, project=runs/val, name=exp, exist_ok=False, half=True, dnn=False\n",
      "YOLOv5 🚀 v7.0-136-g71244ae Python-3.9.16 torch-2.0.0+cu118 CUDA:0 (Tesla T4, 15102MiB)\n",
      "\n",
      "Fusing layers... \n",
      "YOLOv5s summary: 213 layers, 7225885 parameters, 0 gradients\n",
      "\u001b[34m\u001b[1mval: \u001b[0mScanning /content/datasets/coco/val2017... 4952 images, 48 backgrounds, 0 corrupt: 100% 5000/5000 [00:02<00:00, 2024.59it/s]\n",
      "\u001b[34m\u001b[1mval: \u001b[0mNew cache created: /content/datasets/coco/val2017.cache\n",
      "                 Class     Images  Instances          P          R      mAP50   mAP50-95: 100% 157/157 [01:25<00:00,  1.84it/s]\n",
      "                   all       5000      36335      0.671      0.519      0.566      0.371\n",
      "Speed: 0.1ms pre-process, 3.1ms inference, 2.3ms NMS per image at shape (32, 3, 640, 640)\n",
      "\n",
      "Evaluating pycocotools mAP... saving runs/val/exp/yolov5s_predictions.json...\n",
      "loading annotations into memory...\n",
      "Done (t=0.43s)\n",
      "creating index...\n",
      "index created!\n",
      "Loading and preparing results...\n",
      "DONE (t=5.32s)\n",
      "creating index...\n",
      "index created!\n",
      "Running per image evaluation...\n",
      "Evaluate annotation type *bbox*\n",
      "DONE (t=78.89s).\n",
      "Accumulating evaluation results...\n",
      "DONE (t=14.51s).\n",
      " Average Precision  (AP) @[ IoU=0.50:0.95 | area=   all | maxDets=100 ] = 0.374\n",
      " Average Precision  (AP) @[ IoU=0.50      | area=   all | maxDets=100 ] = 0.572\n",
      " Average Precision  (AP) @[ IoU=0.75      | area=   all | maxDets=100 ] = 0.402\n",
      " Average Precision  (AP) @[ IoU=0.50:0.95 | area= small | maxDets=100 ] = 0.211\n",
      " Average Precision  (AP) @[ IoU=0.50:0.95 | area=medium | maxDets=100 ] = 0.423\n",
      " Average Precision  (AP) @[ IoU=0.50:0.95 | area= large | maxDets=100 ] = 0.489\n",
      " Average Recall     (AR) @[ IoU=0.50:0.95 | area=   all | maxDets=  1 ] = 0.311\n",
      " Average Recall     (AR) @[ IoU=0.50:0.95 | area=   all | maxDets= 10 ] = 0.516\n",
      " Average Recall     (AR) @[ IoU=0.50:0.95 | area=   all | maxDets=100 ] = 0.566\n",
      " Average Recall     (AR) @[ IoU=0.50:0.95 | area= small | maxDets=100 ] = 0.378\n",
      " Average Recall     (AR) @[ IoU=0.50:0.95 | area=medium | maxDets=100 ] = 0.625\n",
      " Average Recall     (AR) @[ IoU=0.50:0.95 | area= large | maxDets=100 ] = 0.722\n",
      "Results saved to \u001b[1mruns/val/exp\u001b[0m\n"
     ]
    }
   ],
   "source": [
    "# Validate YOLOv5s on COCO val\n",
    "!python val.py --weights yolov5s.pt --data coco.yaml --img 640 --half"
   ]
  },
  {
   "cell_type": "markdown",
   "metadata": {
    "id": "ZY2VXXXu74w5"
   },
   "source": [
    "# 3. Train\n",
    "\n",
    "<p align=\"\"><a href=\"https://bit.ly/ultralytics_hub\"><img width=\"1000\" src=\"https://github.com/ultralytics/assets/raw/main/im/integrations-loop.png\"/></a></p>\n",
    "Close the active learning loop by sampling images from your inference conditions with the `roboflow` pip package\n",
    "<br><br>\n",
    "\n",
    "Train a YOLOv5s model on the [COCO128](https://www.kaggle.com/ultralytics/coco128) dataset with `--data coco128.yaml`, starting from pretrained `--weights yolov5s.pt`, or from randomly initialized `--weights '' --cfg yolov5s.yaml`.\n",
    "\n",
    "- **Pretrained [Models](https://github.com/ultralytics/yolov5/tree/master/models)** are downloaded\n",
    "automatically from the [latest YOLOv5 release](https://github.com/ultralytics/yolov5/releases)\n",
    "- **[Datasets](https://github.com/ultralytics/yolov5/tree/master/data)** available for autodownload include: [COCO](https://github.com/ultralytics/yolov5/blob/master/data/coco.yaml), [COCO128](https://github.com/ultralytics/yolov5/blob/master/data/coco128.yaml), [VOC](https://github.com/ultralytics/yolov5/blob/master/data/VOC.yaml), [Argoverse](https://github.com/ultralytics/yolov5/blob/master/data/Argoverse.yaml), [VisDrone](https://github.com/ultralytics/yolov5/blob/master/data/VisDrone.yaml), [GlobalWheat](https://github.com/ultralytics/yolov5/blob/master/data/GlobalWheat2020.yaml), [xView](https://github.com/ultralytics/yolov5/blob/master/data/xView.yaml), [Objects365](https://github.com/ultralytics/yolov5/blob/master/data/Objects365.yaml), [SKU-110K](https://github.com/ultralytics/yolov5/blob/master/data/SKU-110K.yaml).\n",
    "- **Training Results** are saved to `runs/train/` with incrementing run directories, i.e. `runs/train/exp2`, `runs/train/exp3` etc.\n",
    "<br>\n",
    "\n",
    "A **Mosaic Dataloader** is used for training which combines 4 images into 1 mosaic.\n",
    "\n",
    "## Label a dataset on Roboflow (optional)\n",
    "\n",
    "[Roboflow](https://roboflow.com/?ref=ultralytics) enables you to easily **organize, label, and prepare** a high quality dataset with your own custom data. Roboflow also makes it easy to establish an active learning pipeline, collaborate with your team on dataset improvement, and integrate directly into your model building workflow with the `roboflow` pip package."
   ]
  },
  {
   "cell_type": "code",
   "execution_count": null,
   "metadata": {
    "id": "i3oKtE4g-aNn"
   },
   "outputs": [],
   "source": [
    "#@title Select YOLOv5 🚀 logger {run: 'auto'}\n",
    "logger = 'Comet' #@param ['Comet', 'ClearML', 'TensorBoard']\n",
    "\n",
    "if logger == 'Comet':\n",
    "  %pip install -q comet_ml\n",
    "  import comet_ml; comet_ml.init()\n",
    "elif logger == 'ClearML':\n",
    "  %pip install -q clearml\n",
    "  import clearml; clearml.browser_login()\n",
    "elif logger == 'TensorBoard':\n",
    "  %load_ext tensorboard\n",
    "  %tensorboard --logdir runs/train"
   ]
  },
  {
   "cell_type": "code",
   "execution_count": 4,
   "metadata": {
    "colab": {
     "base_uri": "https://localhost:8080/"
    },
    "id": "1NcFxRcFdJ_O",
    "outputId": "bbeeea2b-04fc-4185-aa64-258690495b5a",
    "scrolled": false
   },
   "outputs": [
    {
     "name": "stdout",
     "output_type": "stream",
     "text": [
      "\u001b[34m\u001b[1mgithub: \u001b[0mskipping check (not a git repository), for updates see https://github.com/ultralytics/yolov5\n",
      "time used:  143.70848608016968\n"
     ]
    },
    {
     "name": "stderr",
     "output_type": "stream",
     "text": [
      "\u001b[34m\u001b[1mtrain: \u001b[0mweights=yolov5s.pt, cfg=, data=car_counting.yaml, hyp=data\\hyps\\hyp.scratch-low.yaml, epochs=1, batch_size=16, imgsz=640, rect=False, resume=False, nosave=False, noval=False, noautoanchor=False, noplots=False, evolve=None, bucket=, cache=ram, image_weights=False, device=, multi_scale=False, single_cls=False, optimizer=SGD, sync_bn=False, workers=8, project=runs\\train, name=exp, exist_ok=False, quad=False, cos_lr=False, label_smoothing=0.0, patience=100, freeze=[0], save_period=-1, seed=0, local_rank=-1, entity=None, upload_dataset=False, bbox_interval=-1, artifact_alias=latest\n",
      "YOLOv5  2023-6-20 Python-3.11.3 torch-2.0.1+cu118 CUDA:0 (NVIDIA RTX A1000 Laptop GPU, 4096MiB)\n",
      "\n",
      "\u001b[34m\u001b[1mhyperparameters: \u001b[0mlr0=0.01, lrf=0.01, momentum=0.937, weight_decay=0.0005, warmup_epochs=3.0, warmup_momentum=0.8, warmup_bias_lr=0.1, box=0.05, cls=0.5, cls_pw=1.0, obj=1.0, obj_pw=1.0, iou_t=0.2, anchor_t=4.0, fl_gamma=0.0, hsv_h=0.015, hsv_s=0.7, hsv_v=0.4, degrees=0.0, translate=0.1, scale=0.5, shear=0.0, perspective=0.0, flipud=0.0, fliplr=0.5, mosaic=1.0, mixup=0.0, copy_paste=0.0\n",
      "\u001b[34m\u001b[1mComet: \u001b[0mrun 'pip install comet_ml' to automatically track and visualize YOLOv5  runs in Comet\n",
      "\u001b[34m\u001b[1mTensorBoard: \u001b[0mStart with 'tensorboard --logdir runs\\train', view at http://localhost:6006/\n",
      "Overriding model.yaml nc=80 with nc=1\n",
      "\n",
      "                 from  n    params  module                                  arguments                     \n",
      "  0                -1  1      3520  models.common.Conv                      [3, 32, 6, 2, 2]              \n",
      "  1                -1  1     18560  models.common.Conv                      [32, 64, 3, 2]                \n",
      "  2                -1  1     18816  models.common.C3                        [64, 64, 1]                   \n",
      "  3                -1  1     73984  models.common.Conv                      [64, 128, 3, 2]               \n",
      "  4                -1  2    115712  models.common.C3                        [128, 128, 2]                 \n",
      "  5                -1  1    295424  models.common.Conv                      [128, 256, 3, 2]              \n",
      "  6                -1  3    625152  models.common.C3                        [256, 256, 3]                 \n",
      "  7                -1  1   1180672  models.common.Conv                      [256, 512, 3, 2]              \n",
      "  8                -1  1   1182720  models.common.C3                        [512, 512, 1]                 \n",
      "  9                -1  1    656896  models.common.SPPF                      [512, 512, 5]                 \n",
      " 10                -1  1    131584  models.common.Conv                      [512, 256, 1, 1]              \n",
      " 11                -1  1         0  torch.nn.modules.upsampling.Upsample    [None, 2, 'nearest']          \n",
      " 12           [-1, 6]  1         0  models.common.Concat                    [1]                           \n",
      " 13                -1  1    361984  models.common.C3                        [512, 256, 1, False]          \n",
      " 14                -1  1     33024  models.common.Conv                      [256, 128, 1, 1]              \n",
      " 15                -1  1         0  torch.nn.modules.upsampling.Upsample    [None, 2, 'nearest']          \n",
      " 16           [-1, 4]  1         0  models.common.Concat                    [1]                           \n",
      " 17                -1  1     90880  models.common.C3                        [256, 128, 1, False]          \n",
      " 18                -1  1    147712  models.common.Conv                      [128, 128, 3, 2]              \n",
      " 19          [-1, 14]  1         0  models.common.Concat                    [1]                           \n",
      " 20                -1  1    296448  models.common.C3                        [256, 256, 1, False]          \n",
      " 21                -1  1    590336  models.common.Conv                      [256, 256, 3, 2]              \n",
      " 22          [-1, 10]  1         0  models.common.Concat                    [1]                           \n",
      " 23                -1  1   1182720  models.common.C3                        [512, 512, 1, False]          \n",
      " 24      [17, 20, 23]  1     16182  models.yolo.Detect                      [1, [[10, 13, 16, 30, 33, 23], [30, 61, 62, 45, 59, 119], [116, 90, 156, 198, 373, 326]], [128, 256, 512]]\n",
      "Model summary: 214 layers, 7022326 parameters, 7022326 gradients, 15.9 GFLOPs\n",
      "\n",
      "Transferred 343/349 items from yolov5s.pt\n",
      "\u001b[34m\u001b[1mAMP: \u001b[0mchecks passed \n",
      "\u001b[34m\u001b[1moptimizer:\u001b[0m SGD(lr=0.01) with parameter groups 57 weight(decay=0.0), 60 weight(decay=0.0005), 60 bias\n",
      "\n",
      "\u001b[34m\u001b[1mtrain: \u001b[0mScanning C:\\Users\\tjzhang\\Documents\\GitHub\\ITDintern\\datasets\\car_demo\\labels...:   0%|          | 0/150 [00:00<?, ?it/s]\n",
      "\u001b[34m\u001b[1mtrain: \u001b[0mScanning C:\\Users\\tjzhang\\Documents\\GitHub\\ITDintern\\datasets\\car_demo\\labels... 1 images, 0 backgrounds, 0 corrupt:   1%|          | 1/150 [00:06<15:25,  6.21s/it]\n",
      "\u001b[34m\u001b[1mtrain: \u001b[0mScanning C:\\Users\\tjzhang\\Documents\\GitHub\\ITDintern\\datasets\\car_demo\\labels... 150 images, 88 backgrounds, 0 corrupt: 100%|##########| 150/150 [00:06<00:00, 23.87it/s]\n",
      "\u001b[34m\u001b[1mtrain: \u001b[0mNew cache created: C:\\Users\\tjzhang\\Documents\\GitHub\\ITDintern\\datasets\\car_demo\\labels.cache\n",
      "\n",
      "  0%|          | 0/150 [00:00<?, ?it/s]\n",
      "\u001b[34m\u001b[1mtrain: \u001b[0mCaching images (0.1GB ram):  72%|#######2  | 108/150 [00:00<00:00, 1072.66it/s]\n",
      "\u001b[34m\u001b[1mtrain: \u001b[0mCaching images (0.1GB ram): 100%|##########| 150/150 [00:00<00:00, 1145.51it/s]\n",
      "\n",
      "\u001b[34m\u001b[1mval: \u001b[0mScanning C:\\Users\\tjzhang\\Documents\\GitHub\\ITDintern\\datasets\\car_demo\\labels.cache... 150 images, 88 backgrounds, 0 corrupt: 100%|##########| 150/150 [00:00<?, ?it/s]\n",
      "\u001b[34m\u001b[1mval: \u001b[0mScanning C:\\Users\\tjzhang\\Documents\\GitHub\\ITDintern\\datasets\\car_demo\\labels.cache... 150 images, 88 backgrounds, 0 corrupt: 100%|##########| 150/150 [00:00<?, ?it/s]\n",
      "\n",
      "  0%|          | 0/150 [00:00<?, ?it/s]\n",
      "\u001b[34m\u001b[1mval: \u001b[0mCaching images (0.0GB ram):  41%|####      | 61/150 [00:00<00:00, 482.58it/s]\n",
      "\u001b[34m\u001b[1mval: \u001b[0mCaching images (0.1GB ram):  73%|#######3  | 110/150 [00:00<00:00, 385.35it/s]\n",
      "\u001b[34m\u001b[1mval: \u001b[0mCaching images (0.1GB ram): 100%|##########| 150/150 [00:00<00:00, 467.10it/s]\n",
      "\n",
      "\u001b[34m\u001b[1mAutoAnchor: \u001b[0m3.03 anchors/target, 0.991 Best Possible Recall (BPR). Current anchors are a good fit to dataset \n",
      "Plotting labels to runs\\train\\exp7\\labels.jpg... \n",
      "Image sizes 640 train, 640 val\n",
      "Using 8 dataloader workers\n",
      "Logging results to \u001b[1mruns\\train\\exp7\u001b[0m\n",
      "Starting training for 1 epochs...\n",
      "\n",
      "      Epoch    GPU_mem   box_loss   obj_loss   cls_loss  Instances       Size\n",
      "\n",
      "  0%|          | 0/10 [00:00<?, ?it/s]\n",
      "        0/0       3.6G      0.137    0.02711          0         34        640:   0%|          | 0/10 [00:00<?, ?it/s]\n",
      "        0/0       3.6G      0.137    0.02711          0         34        640:  10%|#         | 1/10 [00:00<00:08,  1.07it/s]\n",
      "        0/0       3.6G     0.1338    0.02653          0         18        640:  10%|#         | 1/10 [00:01<00:08,  1.07it/s]\n",
      "        0/0       3.6G     0.1338    0.02653          0         18        640:  20%|##        | 2/10 [00:01<00:04,  1.83it/s]\n",
      "        0/0       3.6G     0.1333    0.02644          0         17        640:  20%|##        | 2/10 [00:01<00:04,  1.83it/s]\n",
      "        0/0       3.6G     0.1333    0.02644          0         17        640:  30%|###       | 3/10 [00:01<00:02,  2.41it/s]\n",
      "        0/0       3.6G     0.1314    0.02634          0         14        640:  30%|###       | 3/10 [00:01<00:02,  2.41it/s]\n",
      "        0/0       3.6G     0.1314    0.02634          0         14        640:  40%|####      | 4/10 [00:01<00:02,  2.88it/s]\n",
      "        0/0       3.6G      0.131    0.02646          0         27        640:  40%|####      | 4/10 [00:01<00:02,  2.88it/s]\n",
      "        0/0       3.6G      0.131    0.02646          0         27        640:  50%|#####     | 5/10 [00:01<00:01,  3.34it/s]\n",
      "        0/0       3.6G     0.1312    0.02627          0         29        640:  50%|#####     | 5/10 [00:02<00:01,  3.34it/s]\n",
      "        0/0       3.6G     0.1312    0.02627          0         29        640:  60%|######    | 6/10 [00:02<00:01,  3.74it/s]\n",
      "        0/0       3.6G     0.1318    0.02601          0         25        640:  60%|######    | 6/10 [00:02<00:01,  3.74it/s]\n",
      "        0/0       3.6G     0.1318    0.02601          0         25        640:  70%|#######   | 7/10 [00:02<00:00,  4.05it/s]\n",
      "        0/0       3.6G     0.1321    0.02562          0         15        640:  70%|#######   | 7/10 [00:02<00:00,  4.05it/s]\n",
      "        0/0       3.6G     0.1321    0.02562          0         15        640:  80%|########  | 8/10 [00:02<00:00,  4.26it/s]\n",
      "        0/0       3.6G     0.1318    0.02539          0         17        640:  80%|########  | 8/10 [00:02<00:00,  4.26it/s]\n",
      "        0/0       3.6G     0.1318    0.02539          0         17        640:  90%|######### | 9/10 [00:02<00:00,  4.39it/s]\n",
      "        0/0       3.6G     0.1308    0.02511          0          5        640:  90%|######### | 9/10 [00:03<00:00,  4.39it/s]\n",
      "        0/0       3.6G     0.1308    0.02511          0          5        640: 100%|##########| 10/10 [00:03<00:00,  3.86it/s]\n",
      "        0/0       3.6G     0.1308    0.02511          0          5        640: 100%|##########| 10/10 [00:03<00:00,  3.24it/s]\n",
      "\n",
      "                 Class     Images  Instances          P          R      mAP50   mAP50-95:   0%|          | 0/5 [00:00<?, ?it/s]\n",
      "                 Class     Images  Instances          P          R      mAP50   mAP50-95:  20%|##        | 1/5 [00:00<00:02,  2.00it/s]\n",
      "                 Class     Images  Instances          P          R      mAP50   mAP50-95:  40%|####      | 2/5 [00:00<00:01,  2.46it/s]\n",
      "                 Class     Images  Instances          P          R      mAP50   mAP50-95:  60%|######    | 3/5 [00:01<00:00,  2.62it/s]\n",
      "                 Class     Images  Instances          P          R      mAP50   mAP50-95:  80%|########  | 4/5 [00:01<00:00,  2.75it/s]\n",
      "                 Class     Images  Instances          P          R      mAP50   mAP50-95: 100%|##########| 5/5 [00:01<00:00,  2.81it/s]\n",
      "                 Class     Images  Instances          P          R      mAP50   mAP50-95: 100%|##########| 5/5 [00:01<00:00,  2.67it/s]\n",
      "                   all        150        115   6.67e-05     0.0261   4.15e-05   1.38e-05\n",
      "\n",
      "1 epochs completed in 0.002 hours.\n",
      "Optimizer stripped from runs\\train\\exp7\\weights\\last.pt, 14.3MB\n",
      "Optimizer stripped from runs\\train\\exp7\\weights\\best.pt, 14.3MB\n",
      "\n",
      "Validating runs\\train\\exp7\\weights\\best.pt...\n",
      "Fusing layers... \n",
      "Model summary: 157 layers, 7012822 parameters, 0 gradients, 15.8 GFLOPs\n",
      "\n",
      "                 Class     Images  Instances          P          R      mAP50   mAP50-95:   0%|          | 0/5 [00:00<?, ?it/s]\n",
      "                 Class     Images  Instances          P          R      mAP50   mAP50-95:  20%|##        | 1/5 [00:00<00:01,  2.21it/s]\n",
      "                 Class     Images  Instances          P          R      mAP50   mAP50-95:  40%|####      | 2/5 [00:00<00:01,  2.18it/s]\n",
      "                 Class     Images  Instances          P          R      mAP50   mAP50-95:  60%|######    | 3/5 [00:01<00:00,  2.18it/s]\n",
      "                 Class     Images  Instances          P          R      mAP50   mAP50-95:  80%|########  | 4/5 [00:01<00:00,  2.26it/s]\n",
      "                 Class     Images  Instances          P          R      mAP50   mAP50-95: 100%|##########| 5/5 [00:02<00:00,  2.66it/s]\n",
      "                 Class     Images  Instances          P          R      mAP50   mAP50-95: 100%|##########| 5/5 [00:02<00:00,  2.44it/s]\n",
      "                   all        150        115   6.67e-05     0.0261   4.14e-05   1.38e-05\n",
      "Results saved to \u001b[1mruns\\train\\exp7\u001b[0m\n"
     ]
    }
   ],
   "source": [
    "# Train YOLOv5s on COCO128 for 3 epochs\n",
    "import time\n",
    "start = time.time()\n",
    "!python train.py --img 640 --batch 16 --epochs 1 --data car_counting.yaml --weights yolov5s.pt --cache\n",
    "end = time.time()\n",
    "print('time used: ',end - start)"
   ]
  },
  {
   "cell_type": "markdown",
   "metadata": {
    "id": "15glLzbQx5u0"
   },
   "source": [
    "# 4. Visualize"
   ]
  },
  {
   "cell_type": "markdown",
   "metadata": {
    "id": "nWOsI5wJR1o3"
   },
   "source": [
    "## Comet Logging and Visualization 🌟 NEW\n",
    "\n",
    "[Comet](https://www.comet.com/site/lp/yolov5-with-comet/?utm_source=yolov5&utm_medium=partner&utm_campaign=partner_yolov5_2022&utm_content=yolov5_colab) is now fully integrated with YOLOv5. Track and visualize model metrics in real time, save your hyperparameters, datasets, and model checkpoints, and visualize your model predictions with [Comet Custom Panels](https://www.comet.com/docs/v2/guides/comet-dashboard/code-panels/about-panels/?utm_source=yolov5&utm_medium=partner&utm_campaign=partner_yolov5_2022&utm_content=yolov5_colab)! Comet makes sure you never lose track of your work and makes it easy to share results and collaborate across teams of all sizes!\n",
    "\n",
    "Getting started is easy:\n",
    "```shell\n",
    "pip install comet_ml  # 1. install\n",
    "export COMET_API_KEY=<Your API Key>  # 2. paste API key\n",
    "python train.py --img 640 --epochs 3 --data coco128.yaml --weights yolov5s.pt  # 3. train\n",
    "```\n",
    "To learn more about all of the supported Comet features for this integration, check out the [Comet Tutorial](https://docs.ultralytics.com/yolov5/tutorials/comet_logging_integration). If you'd like to learn more about Comet, head over to our [documentation](https://www.comet.com/docs/v2/?utm_source=yolov5&utm_medium=partner&utm_campaign=partner_yolov5_2022&utm_content=yolov5_colab). Get started by trying out the Comet Colab Notebook:\n",
    "[![Open In Colab](https://colab.research.google.com/assets/colab-badge.svg)](https://colab.research.google.com/drive/1RG0WOQyxlDlo5Km8GogJpIEJlg_5lyYO?usp=sharing)\n",
    "\n",
    "<a href=\"https://bit.ly/yolov5-readme-comet2\">\n",
    "<img alt=\"Comet Dashboard\" src=\"https://user-images.githubusercontent.com/26833433/202851203-164e94e1-2238-46dd-91f8-de020e9d6b41.png\" width=\"1280\"/></a>"
   ]
  },
  {
   "cell_type": "markdown",
   "metadata": {
    "id": "Lay2WsTjNJzP"
   },
   "source": [
    "## ClearML Logging and Automation 🌟 NEW\n",
    "\n",
    "[ClearML](https://cutt.ly/yolov5-notebook-clearml) is completely integrated into YOLOv5 to track your experimentation, manage dataset versions and even remotely execute training runs. To enable ClearML (check cells above):\n",
    "\n",
    "- `pip install clearml`\n",
    "- run `clearml-init` to connect to a ClearML server (**deploy your own [open-source server](https://github.com/allegroai/clearml-server)**, or use our [free hosted server](https://cutt.ly/yolov5-notebook-clearml))\n",
    "\n",
    "You'll get all the great expected features from an experiment manager: live updates, model upload, experiment comparison etc. but ClearML also tracks uncommitted changes and installed packages for example. Thanks to that ClearML Tasks (which is what we call experiments) are also reproducible on different machines! With only 1 extra line, we can schedule a YOLOv5 training task on a queue to be executed by any number of ClearML Agents (workers).\n",
    "\n",
    "You can use ClearML Data to version your dataset and then pass it to YOLOv5 simply using its unique ID. This will help you keep track of your data without adding extra hassle. Explore the [ClearML Tutorial](https://docs.ultralytics.com/yolov5/tutorials/clearml_logging_integration) for details!\n",
    "\n",
    "<a href=\"https://cutt.ly/yolov5-notebook-clearml\">\n",
    "<img alt=\"ClearML Experiment Management UI\" src=\"https://github.com/thepycoder/clearml_screenshots/raw/main/scalars.jpg\" width=\"1280\"/></a>"
   ]
  },
  {
   "cell_type": "markdown",
   "metadata": {
    "id": "-WPvRbS5Swl6"
   },
   "source": [
    "## Local Logging\n",
    "\n",
    "Training results are automatically logged with [Tensorboard](https://www.tensorflow.org/tensorboard) and [CSV](https://github.com/ultralytics/yolov5/pull/4148) loggers to `runs/train`, with a new experiment directory created for each new training as `runs/train/exp2`, `runs/train/exp3`, etc.\n",
    "\n",
    "This directory contains train and val statistics, mosaics, labels, predictions and augmentated mosaics, as well as metrics and charts including precision-recall (PR) curves and confusion matrices. \n",
    "\n",
    "<img alt=\"Local logging results\" src=\"https://user-images.githubusercontent.com/26833433/183222430-e1abd1b7-782c-4cde-b04d-ad52926bf818.jpg\" width=\"1280\"/>\n"
   ]
  },
  {
   "cell_type": "markdown",
   "metadata": {
    "id": "Zelyeqbyt3GD"
   },
   "source": [
    "# Environments\n",
    "\n",
    "YOLOv5 may be run in any of the following up-to-date verified environments (with all dependencies including [CUDA](https://developer.nvidia.com/cuda)/[CUDNN](https://developer.nvidia.com/cudnn), [Python](https://www.python.org/) and [PyTorch](https://pytorch.org/) preinstalled):\n",
    "\n",
    "- **Notebooks** with free GPU: <a href=\"https://bit.ly/yolov5-paperspace-notebook\"><img src=\"https://assets.paperspace.io/img/gradient-badge.svg\" alt=\"Run on Gradient\"></a> <a href=\"https://colab.research.google.com/github/ultralytics/yolov5/blob/master/tutorial.ipynb\"><img src=\"https://colab.research.google.com/assets/colab-badge.svg\" alt=\"Open In Colab\"></a> <a href=\"https://www.kaggle.com/ultralytics/yolov5\"><img src=\"https://kaggle.com/static/images/open-in-kaggle.svg\" alt=\"Open In Kaggle\"></a>\n",
    "- **Google Cloud** Deep Learning VM. See [GCP Quickstart Guide](https://docs.ultralytics.com/yolov5/environments/google_cloud_quickstart_tutorial/)\n",
    "- **Amazon** Deep Learning AMI. See [AWS Quickstart Guide](https://docs.ultralytics.com/yolov5/environments/aws_quickstart_tutorial/)\n",
    "- **Docker Image**. See [Docker Quickstart Guide](https://docs.ultralytics.com/yolov5/environments/docker_image_quickstart_tutorial/) <a href=\"https://hub.docker.com/r/ultralytics/yolov5\"><img src=\"https://img.shields.io/docker/pulls/ultralytics/yolov5?logo=docker\" alt=\"Docker Pulls\"></a>\n"
   ]
  },
  {
   "cell_type": "markdown",
   "metadata": {
    "id": "6Qu7Iesl0p54"
   },
   "source": [
    "# Status\n",
    "\n",
    "![YOLOv5 CI](https://github.com/ultralytics/yolov5/actions/workflows/ci-testing.yml/badge.svg)\n",
    "\n",
    "If this badge is green, all [YOLOv5 GitHub Actions](https://github.com/ultralytics/yolov5/actions) Continuous Integration (CI) tests are currently passing. CI tests verify correct operation of YOLOv5 training ([train.py](https://github.com/ultralytics/yolov5/blob/master/train.py)), testing ([val.py](https://github.com/ultralytics/yolov5/blob/master/val.py)), inference ([detect.py](https://github.com/ultralytics/yolov5/blob/master/detect.py)) and export ([export.py](https://github.com/ultralytics/yolov5/blob/master/export.py)) on macOS, Windows, and Ubuntu every 24 hours and on every commit.\n"
   ]
  },
  {
   "cell_type": "markdown",
   "metadata": {
    "id": "IEijrePND_2I"
   },
   "source": [
    "# Appendix\n",
    "\n",
    "Additional content below."
   ]
  },
  {
   "cell_type": "code",
   "execution_count": null,
   "metadata": {
    "id": "GMusP4OAxFu6"
   },
   "outputs": [],
   "source": [
    "# YOLOv5 PyTorch HUB Inference (DetectionModels only)\n",
    "import torch\n",
    "\n",
    "model = torch.hub.load('ultralytics/yolov5', 'yolov5s', force_reload=True)  # yolov5n - yolov5x6 or custom\n",
    "im = 'https://ultralytics.com/images/zidane.jpg'  # file, Path, PIL.Image, OpenCV, nparray, list\n",
    "results = model(im)  # inference\n",
    "results.print()  # or .show(), .save(), .crop(), .pandas(), etc."
   ]
  }
 ],
 "metadata": {
  "accelerator": "GPU",
  "colab": {
   "name": "YOLOv5 Tutorial",
   "provenance": []
  },
  "kernelspec": {
   "display_name": "Python 3 (ipykernel)",
   "language": "python",
   "name": "python3"
  },
  "language_info": {
   "codemirror_mode": {
    "name": "ipython",
    "version": 3
   },
   "file_extension": ".py",
   "mimetype": "text/x-python",
   "name": "python",
   "nbconvert_exporter": "python",
   "pygments_lexer": "ipython3",
   "version": "3.11.3"
  }
 },
 "nbformat": 4,
 "nbformat_minor": 1
}
